{
 "cells": [
  {
   "cell_type": "markdown",
   "metadata": {},
   "source": [
    "# Build and Evaluate a Classification Model\n",
    "\n",
    "In this notebook we will build classification models using the decision trees and logistic regression algorithms and choose the best one.\n"
   ]
  },
  {
   "cell_type": "markdown",
   "metadata": {},
   "source": [
    "## Import the libraries we need\n"
   ]
  },
  {
   "cell_type": "code",
   "execution_count": 1,
   "metadata": {},
   "outputs": [],
   "source": [
    "# Core libraries\n",
    "import pandas as pd\n",
    "import numpy as np\n",
    "import matplotlib.pyplot as pyplot\n",
    "\n",
    "# Sklearn functionality\n",
    "from sklearn.preprocessing import MinMaxScaler\n",
    "from sklearn.model_selection import train_test_split\n",
    "from sklearn.tree import DecisionTreeClassifier\n",
    "from sklearn.linear_model import LogisticRegression\n",
    "\n",
    "from sklearn.metrics import accuracy_score\n",
    "\n",
    "# Convenience functions.  This can be found on the course github\n",
    "from functions import *"
   ]
  },
  {
   "cell_type": "markdown",
   "metadata": {},
   "source": [
    "# Define the task\n",
    "\"Make predictions about a country's life expectancy (L/M/H bands) from a set of metrics for the country.\""
   ]
  },
  {
   "cell_type": "markdown",
   "metadata": {},
   "source": [
    "# Acquire clean data\n",
    "## Load the data\n",
    "We will load our data."
   ]
  },
  {
   "cell_type": "code",
   "execution_count": 2,
   "metadata": {},
   "outputs": [],
   "source": [
    "# Load the data set\n",
    "dataset = pd.read_csv(\"world_data.csv\")"
   ]
  },
  {
   "cell_type": "markdown",
   "metadata": {},
   "source": [
    "## Inspect the data"
   ]
  },
  {
   "cell_type": "markdown",
   "metadata": {},
   "source": [
    "Identify the number of features (columns) and samples (rows)"
   ]
  },
  {
   "cell_type": "code",
   "execution_count": 3,
   "metadata": {},
   "outputs": [
    {
     "data": {
      "text/plain": [
       "(194, 17)"
      ]
     },
     "execution_count": 3,
     "metadata": {},
     "output_type": "execute_result"
    }
   ],
   "source": [
    "# Examine the date shape\n",
    "dataset.shape"
   ]
  },
  {
   "cell_type": "markdown",
   "metadata": {},
   "source": [
    "Take a quick look at the data to understand what you are dealing with."
   ]
  },
  {
   "cell_type": "code",
   "execution_count": 4,
   "metadata": {},
   "outputs": [
    {
     "data": {
      "text/html": [
       "<div>\n",
       "<style scoped>\n",
       "    .dataframe tbody tr th:only-of-type {\n",
       "        vertical-align: middle;\n",
       "    }\n",
       "\n",
       "    .dataframe tbody tr th {\n",
       "        vertical-align: top;\n",
       "    }\n",
       "\n",
       "    .dataframe thead th {\n",
       "        text-align: right;\n",
       "    }\n",
       "</style>\n",
       "<table border=\"1\" class=\"dataframe\">\n",
       "  <thead>\n",
       "    <tr style=\"text-align: right;\">\n",
       "      <th></th>\n",
       "      <th>country</th>\n",
       "      <th>happiness</th>\n",
       "      <th>income</th>\n",
       "      <th>lifeexp</th>\n",
       "      <th>sanitation</th>\n",
       "      <th>water</th>\n",
       "      <th>urbanpopulation</th>\n",
       "      <th>unemployment</th>\n",
       "      <th>literacy</th>\n",
       "      <th>inequality</th>\n",
       "      <th>murder</th>\n",
       "      <th>energy</th>\n",
       "      <th>childmortality</th>\n",
       "      <th>fertility</th>\n",
       "      <th>hiv</th>\n",
       "      <th>foodsupply</th>\n",
       "      <th>population</th>\n",
       "    </tr>\n",
       "  </thead>\n",
       "  <tbody>\n",
       "    <tr>\n",
       "      <th>0</th>\n",
       "      <td>Afghanistan</td>\n",
       "      <td>3.982855</td>\n",
       "      <td>1750.0</td>\n",
       "      <td>57.9</td>\n",
       "      <td>39.2</td>\n",
       "      <td>63.0</td>\n",
       "      <td>11.0</td>\n",
       "      <td>NaN</td>\n",
       "      <td>39.0</td>\n",
       "      <td>NaN</td>\n",
       "      <td>NaN</td>\n",
       "      <td>NaN</td>\n",
       "      <td>73.2</td>\n",
       "      <td>4.80</td>\n",
       "      <td>5800.0</td>\n",
       "      <td>2090.0</td>\n",
       "      <td>33700000</td>\n",
       "    </tr>\n",
       "    <tr>\n",
       "      <th>1</th>\n",
       "      <td>Albania</td>\n",
       "      <td>4.606651</td>\n",
       "      <td>11000.0</td>\n",
       "      <td>77.6</td>\n",
       "      <td>97.7</td>\n",
       "      <td>91.4</td>\n",
       "      <td>NaN</td>\n",
       "      <td>6.090</td>\n",
       "      <td>96.8</td>\n",
       "      <td>29.0</td>\n",
       "      <td>2.30</td>\n",
       "      <td>808.0</td>\n",
       "      <td>14.0</td>\n",
       "      <td>1.71</td>\n",
       "      <td>NaN</td>\n",
       "      <td>3190.0</td>\n",
       "      <td>2920000</td>\n",
       "    </tr>\n",
       "    <tr>\n",
       "      <th>2</th>\n",
       "      <td>Argentina</td>\n",
       "      <td>6.697131</td>\n",
       "      <td>19100.0</td>\n",
       "      <td>76.5</td>\n",
       "      <td>94.8</td>\n",
       "      <td>99.6</td>\n",
       "      <td>43.1</td>\n",
       "      <td>0.856</td>\n",
       "      <td>97.9</td>\n",
       "      <td>41.4</td>\n",
       "      <td>4.65</td>\n",
       "      <td>2020.0</td>\n",
       "      <td>11.6</td>\n",
       "      <td>2.31</td>\n",
       "      <td>95000.0</td>\n",
       "      <td>3230.0</td>\n",
       "      <td>43400000</td>\n",
       "    </tr>\n",
       "    <tr>\n",
       "      <th>3</th>\n",
       "      <td>Armenia</td>\n",
       "      <td>4.348320</td>\n",
       "      <td>8180.0</td>\n",
       "      <td>75.4</td>\n",
       "      <td>91.6</td>\n",
       "      <td>98.9</td>\n",
       "      <td>36.7</td>\n",
       "      <td>7.110</td>\n",
       "      <td>99.6</td>\n",
       "      <td>32.4</td>\n",
       "      <td>1.12</td>\n",
       "      <td>1020.0</td>\n",
       "      <td>14.0</td>\n",
       "      <td>1.66</td>\n",
       "      <td>3600.0</td>\n",
       "      <td>2930.0</td>\n",
       "      <td>2920000</td>\n",
       "    </tr>\n",
       "    <tr>\n",
       "      <th>4</th>\n",
       "      <td>Australia</td>\n",
       "      <td>7.309061</td>\n",
       "      <td>43800.0</td>\n",
       "      <td>82.6</td>\n",
       "      <td>100.0</td>\n",
       "      <td>100.0</td>\n",
       "      <td>60.2</td>\n",
       "      <td>1.240</td>\n",
       "      <td>NaN</td>\n",
       "      <td>34.7</td>\n",
       "      <td>1.11</td>\n",
       "      <td>5480.0</td>\n",
       "      <td>3.8</td>\n",
       "      <td>1.86</td>\n",
       "      <td>22000.0</td>\n",
       "      <td>3280.0</td>\n",
       "      <td>23800000</td>\n",
       "    </tr>\n",
       "  </tbody>\n",
       "</table>\n",
       "</div>"
      ],
      "text/plain": [
       "       country  happiness   income  lifeexp  sanitation  water  \\\n",
       "0  Afghanistan   3.982855   1750.0     57.9        39.2   63.0   \n",
       "1      Albania   4.606651  11000.0     77.6        97.7   91.4   \n",
       "2    Argentina   6.697131  19100.0     76.5        94.8   99.6   \n",
       "3      Armenia   4.348320   8180.0     75.4        91.6   98.9   \n",
       "4    Australia   7.309061  43800.0     82.6       100.0  100.0   \n",
       "\n",
       "   urbanpopulation  unemployment  literacy  inequality  murder  energy  \\\n",
       "0             11.0           NaN      39.0         NaN     NaN     NaN   \n",
       "1              NaN         6.090      96.8        29.0    2.30   808.0   \n",
       "2             43.1         0.856      97.9        41.4    4.65  2020.0   \n",
       "3             36.7         7.110      99.6        32.4    1.12  1020.0   \n",
       "4             60.2         1.240       NaN        34.7    1.11  5480.0   \n",
       "\n",
       "   childmortality  fertility      hiv  foodsupply  population  \n",
       "0            73.2       4.80   5800.0      2090.0    33700000  \n",
       "1            14.0       1.71      NaN      3190.0     2920000  \n",
       "2            11.6       2.31  95000.0      3230.0    43400000  \n",
       "3            14.0       1.66   3600.0      2930.0     2920000  \n",
       "4             3.8       1.86  22000.0      3280.0    23800000  "
      ]
     },
     "execution_count": 4,
     "metadata": {},
     "output_type": "execute_result"
    }
   ],
   "source": [
    "# Inspect first few rows\n",
    "dataset.head()"
   ]
  },
  {
   "cell_type": "markdown",
   "metadata": {},
   "source": [
    "Check we have sensible data types for each feature.  E.g. we don't want any numeric features to be showing as object type."
   ]
  },
  {
   "cell_type": "code",
   "execution_count": 5,
   "metadata": {},
   "outputs": [
    {
     "data": {
      "text/plain": [
       "country             object\n",
       "happiness          float64\n",
       "income             float64\n",
       "lifeexp            float64\n",
       "sanitation         float64\n",
       "water              float64\n",
       "urbanpopulation    float64\n",
       "unemployment       float64\n",
       "literacy           float64\n",
       "inequality         float64\n",
       "murder             float64\n",
       "energy             float64\n",
       "childmortality     float64\n",
       "fertility          float64\n",
       "hiv                float64\n",
       "foodsupply         float64\n",
       "population           int64\n",
       "dtype: object"
      ]
     },
     "execution_count": 5,
     "metadata": {},
     "output_type": "execute_result"
    }
   ],
   "source": [
    "# Check data types\n",
    "dataset.dtypes"
   ]
  },
  {
   "cell_type": "markdown",
   "metadata": {},
   "source": [
    "Check if there are nulls"
   ]
  },
  {
   "cell_type": "code",
   "execution_count": 6,
   "metadata": {},
   "outputs": [
    {
     "data": {
      "text/plain": [
       "country            0.000000\n",
       "water              0.000000\n",
       "sanitation         0.000000\n",
       "population         0.000000\n",
       "income             0.005155\n",
       "childmortality     0.005155\n",
       "lifeexp            0.036082\n",
       "fertility          0.051546\n",
       "energy             0.128866\n",
       "foodsupply         0.134021\n",
       "inequality         0.175258\n",
       "hiv                0.231959\n",
       "literacy           0.231959\n",
       "happiness          0.278351\n",
       "urbanpopulation    0.386598\n",
       "unemployment       0.422680\n",
       "murder             0.520619\n",
       "dtype: float64"
      ]
     },
     "execution_count": 6,
     "metadata": {},
     "output_type": "execute_result"
    }
   ],
   "source": [
    "# Check for nulls\n",
    "dataset.isnull().mean().sort_values()"
   ]
  },
  {
   "cell_type": "markdown",
   "metadata": {},
   "source": [
    "## Clean data\n",
    "Some of these features (murder, urbanpopulation, unemployment) are very sparsely populated.  If we were to impute the nulls, we would be estimating a large number of values.  I am going to discard them for now.  I may come back to these again later (remember, this is an iterative process)."
   ]
  },
  {
   "cell_type": "code",
   "execution_count": 7,
   "metadata": {},
   "outputs": [],
   "source": [
    "# Discard very sparse features\n",
    "dataset = dataset.drop([\"murder\",\"urbanpopulation\",\"unemployment\"], axis=1)"
   ]
  },
  {
   "cell_type": "markdown",
   "metadata": {},
   "source": [
    "For the others I will just impute with the mean value of the feature.  Again, I may want to come back to this later."
   ]
  },
  {
   "cell_type": "code",
   "execution_count": 8,
   "metadata": {},
   "outputs": [],
   "source": [
    "# Compute the mean for each feature\n",
    "means = dataset.mean().to_dict()\n",
    "\n",
    "# Impute each null with the mean of that feature\n",
    "for m in means:\n",
    "    dataset[m] = dataset[m].fillna(value=means[m])"
   ]
  },
  {
   "cell_type": "markdown",
   "metadata": {},
   "source": [
    "Have a think about our cleanup strategy here.  Could you take a more sophisticated approach?"
   ]
  },
  {
   "cell_type": "markdown",
   "metadata": {},
   "source": [
    "Confirm we have no nulls now:"
   ]
  },
  {
   "cell_type": "code",
   "execution_count": 9,
   "metadata": {},
   "outputs": [
    {
     "data": {
      "text/plain": [
       "country           0.0\n",
       "happiness         0.0\n",
       "income            0.0\n",
       "lifeexp           0.0\n",
       "sanitation        0.0\n",
       "water             0.0\n",
       "literacy          0.0\n",
       "inequality        0.0\n",
       "energy            0.0\n",
       "childmortality    0.0\n",
       "fertility         0.0\n",
       "hiv               0.0\n",
       "foodsupply        0.0\n",
       "population        0.0\n",
       "dtype: float64"
      ]
     },
     "execution_count": 9,
     "metadata": {},
     "output_type": "execute_result"
    }
   ],
   "source": [
    "# Check for nulls\n",
    "dataset.isnull().mean()"
   ]
  },
  {
   "cell_type": "markdown",
   "metadata": {},
   "source": [
    "## Understand the data\n",
    "\n",
    "### Compute descriptive stats\n",
    "Descriptive stats give an idea of the range and spread of values for each feature and allows us to spot and unexpected patterns. "
   ]
  },
  {
   "cell_type": "code",
   "execution_count": 10,
   "metadata": {
    "scrolled": false
   },
   "outputs": [
    {
     "data": {
      "text/html": [
       "<div>\n",
       "<style scoped>\n",
       "    .dataframe tbody tr th:only-of-type {\n",
       "        vertical-align: middle;\n",
       "    }\n",
       "\n",
       "    .dataframe tbody tr th {\n",
       "        vertical-align: top;\n",
       "    }\n",
       "\n",
       "    .dataframe thead th {\n",
       "        text-align: right;\n",
       "    }\n",
       "</style>\n",
       "<table border=\"1\" class=\"dataframe\">\n",
       "  <thead>\n",
       "    <tr style=\"text-align: right;\">\n",
       "      <th></th>\n",
       "      <th>happiness</th>\n",
       "      <th>income</th>\n",
       "      <th>lifeexp</th>\n",
       "      <th>sanitation</th>\n",
       "      <th>water</th>\n",
       "      <th>literacy</th>\n",
       "      <th>inequality</th>\n",
       "      <th>energy</th>\n",
       "      <th>childmortality</th>\n",
       "      <th>fertility</th>\n",
       "      <th>hiv</th>\n",
       "      <th>foodsupply</th>\n",
       "      <th>population</th>\n",
       "    </tr>\n",
       "  </thead>\n",
       "  <tbody>\n",
       "    <tr>\n",
       "      <th>count</th>\n",
       "      <td>194.000000</td>\n",
       "      <td>194.000000</td>\n",
       "      <td>194.000000</td>\n",
       "      <td>194.000000</td>\n",
       "      <td>194.000000</td>\n",
       "      <td>194.000000</td>\n",
       "      <td>194.000000</td>\n",
       "      <td>194.000000</td>\n",
       "      <td>194.000000</td>\n",
       "      <td>194.000000</td>\n",
       "      <td>1.940000e+02</td>\n",
       "      <td>194.000000</td>\n",
       "      <td>1.940000e+02</td>\n",
       "    </tr>\n",
       "    <tr>\n",
       "      <th>mean</th>\n",
       "      <td>5.395765</td>\n",
       "      <td>17432.849741</td>\n",
       "      <td>71.933690</td>\n",
       "      <td>73.838247</td>\n",
       "      <td>86.329381</td>\n",
       "      <td>81.573826</td>\n",
       "      <td>38.579375</td>\n",
       "      <td>2183.725325</td>\n",
       "      <td>31.441451</td>\n",
       "      <td>2.835924</td>\n",
       "      <td>2.179917e+05</td>\n",
       "      <td>2845.952381</td>\n",
       "      <td>3.787195e+07</td>\n",
       "    </tr>\n",
       "    <tr>\n",
       "      <th>std</th>\n",
       "      <td>0.953547</td>\n",
       "      <td>19072.580021</td>\n",
       "      <td>7.466359</td>\n",
       "      <td>29.269367</td>\n",
       "      <td>17.568245</td>\n",
       "      <td>17.055722</td>\n",
       "      <td>7.257464</td>\n",
       "      <td>2618.536430</td>\n",
       "      <td>31.237992</td>\n",
       "      <td>1.336162</td>\n",
       "      <td>5.521169e+05</td>\n",
       "      <td>413.199619</td>\n",
       "      <td>1.419670e+08</td>\n",
       "    </tr>\n",
       "    <tr>\n",
       "      <th>min</th>\n",
       "      <td>2.701591</td>\n",
       "      <td>623.000000</td>\n",
       "      <td>49.600000</td>\n",
       "      <td>7.080000</td>\n",
       "      <td>19.300000</td>\n",
       "      <td>25.300000</td>\n",
       "      <td>16.600000</td>\n",
       "      <td>9.580000</td>\n",
       "      <td>2.200000</td>\n",
       "      <td>1.240000</td>\n",
       "      <td>6.000000e+01</td>\n",
       "      <td>1880.000000</td>\n",
       "      <td>1.100000e+04</td>\n",
       "    </tr>\n",
       "    <tr>\n",
       "      <th>25%</th>\n",
       "      <td>4.891838</td>\n",
       "      <td>3297.500000</td>\n",
       "      <td>66.425000</td>\n",
       "      <td>49.225000</td>\n",
       "      <td>77.900000</td>\n",
       "      <td>75.575000</td>\n",
       "      <td>34.000000</td>\n",
       "      <td>614.500000</td>\n",
       "      <td>8.200000</td>\n",
       "      <td>1.790000</td>\n",
       "      <td>1.025000e+04</td>\n",
       "      <td>2570.000000</td>\n",
       "      <td>1.982500e+06</td>\n",
       "    </tr>\n",
       "    <tr>\n",
       "      <th>50%</th>\n",
       "      <td>5.395765</td>\n",
       "      <td>11050.000000</td>\n",
       "      <td>72.550000</td>\n",
       "      <td>87.900000</td>\n",
       "      <td>94.950000</td>\n",
       "      <td>81.573826</td>\n",
       "      <td>38.579375</td>\n",
       "      <td>1565.000000</td>\n",
       "      <td>17.900000</td>\n",
       "      <td>2.415000</td>\n",
       "      <td>7.000000e+04</td>\n",
       "      <td>2845.952381</td>\n",
       "      <td>8.435000e+06</td>\n",
       "    </tr>\n",
       "    <tr>\n",
       "      <th>75%</th>\n",
       "      <td>5.880369</td>\n",
       "      <td>24100.000000</td>\n",
       "      <td>77.400000</td>\n",
       "      <td>97.700000</td>\n",
       "      <td>99.300000</td>\n",
       "      <td>95.375000</td>\n",
       "      <td>42.175000</td>\n",
       "      <td>2425.000000</td>\n",
       "      <td>49.225000</td>\n",
       "      <td>3.687500</td>\n",
       "      <td>2.179917e+05</td>\n",
       "      <td>3140.000000</td>\n",
       "      <td>2.742500e+07</td>\n",
       "    </tr>\n",
       "    <tr>\n",
       "      <th>max</th>\n",
       "      <td>7.603434</td>\n",
       "      <td>120000.000000</td>\n",
       "      <td>83.800000</td>\n",
       "      <td>100.000000</td>\n",
       "      <td>100.000000</td>\n",
       "      <td>100.000000</td>\n",
       "      <td>63.000000</td>\n",
       "      <td>18600.000000</td>\n",
       "      <td>137.000000</td>\n",
       "      <td>7.290000</td>\n",
       "      <td>5.600000e+06</td>\n",
       "      <td>3770.000000</td>\n",
       "      <td>1.400000e+09</td>\n",
       "    </tr>\n",
       "  </tbody>\n",
       "</table>\n",
       "</div>"
      ],
      "text/plain": [
       "        happiness         income     lifeexp  sanitation       water  \\\n",
       "count  194.000000     194.000000  194.000000  194.000000  194.000000   \n",
       "mean     5.395765   17432.849741   71.933690   73.838247   86.329381   \n",
       "std      0.953547   19072.580021    7.466359   29.269367   17.568245   \n",
       "min      2.701591     623.000000   49.600000    7.080000   19.300000   \n",
       "25%      4.891838    3297.500000   66.425000   49.225000   77.900000   \n",
       "50%      5.395765   11050.000000   72.550000   87.900000   94.950000   \n",
       "75%      5.880369   24100.000000   77.400000   97.700000   99.300000   \n",
       "max      7.603434  120000.000000   83.800000  100.000000  100.000000   \n",
       "\n",
       "         literacy  inequality        energy  childmortality   fertility  \\\n",
       "count  194.000000  194.000000    194.000000      194.000000  194.000000   \n",
       "mean    81.573826   38.579375   2183.725325       31.441451    2.835924   \n",
       "std     17.055722    7.257464   2618.536430       31.237992    1.336162   \n",
       "min     25.300000   16.600000      9.580000        2.200000    1.240000   \n",
       "25%     75.575000   34.000000    614.500000        8.200000    1.790000   \n",
       "50%     81.573826   38.579375   1565.000000       17.900000    2.415000   \n",
       "75%     95.375000   42.175000   2425.000000       49.225000    3.687500   \n",
       "max    100.000000   63.000000  18600.000000      137.000000    7.290000   \n",
       "\n",
       "                hiv   foodsupply    population  \n",
       "count  1.940000e+02   194.000000  1.940000e+02  \n",
       "mean   2.179917e+05  2845.952381  3.787195e+07  \n",
       "std    5.521169e+05   413.199619  1.419670e+08  \n",
       "min    6.000000e+01  1880.000000  1.100000e+04  \n",
       "25%    1.025000e+04  2570.000000  1.982500e+06  \n",
       "50%    7.000000e+04  2845.952381  8.435000e+06  \n",
       "75%    2.179917e+05  3140.000000  2.742500e+07  \n",
       "max    5.600000e+06  3770.000000  1.400000e+09  "
      ]
     },
     "execution_count": 10,
     "metadata": {},
     "output_type": "execute_result"
    }
   ],
   "source": [
    "# Compute descriptive stats\n",
    "dataset.describe()"
   ]
  },
  {
   "cell_type": "markdown",
   "metadata": {},
   "source": [
    "### Visualise\n",
    "A correlation matrix can be used to spot correlations between the features.  "
   ]
  },
  {
   "cell_type": "code",
   "execution_count": 11,
   "metadata": {},
   "outputs": [
    {
     "data": {
      "image/png": "[encoded data removed]",
      "text/plain": [
       "<Figure size 720x720 with 2 Axes>"
      ]
     },
     "metadata": {
      "needs_background": "light"
     },
     "output_type": "display_data"
    }
   ],
   "source": [
    "# Display a correlation matrix\n",
    "correlationMatrix(dataset)"
   ]
  },
  {
   "cell_type": "markdown",
   "metadata": {},
   "source": [
    "We can also plot some boxplots to understand the distribution of each feature.  "
   ]
  },
  {
   "cell_type": "code",
   "execution_count": 12,
   "metadata": {},
   "outputs": [
    {
     "data": {
      "image/png": "[encoded data removed]",
      "text/plain": [
       "<Figure size 1440x2520 with 28 Axes>"
      ]
     },
     "metadata": {
      "needs_background": "light"
     },
     "output_type": "display_data"
    }
   ],
   "source": [
    "# Display boxplots for each numeric feature\n",
    "boxPlotAll(dataset)"
   ]
  },
  {
   "cell_type": "markdown",
   "metadata": {},
   "source": [
    "## Prepare Data\n",
    "### Feature Engineering\n",
    "\n",
    "We need to create our banded lifeexp feature, which will be the target feature:"
   ]
  },
  {
   "cell_type": "code",
   "execution_count": 13,
   "metadata": {},
   "outputs": [],
   "source": [
    "# Bin lifexp into L, M and H bands\n",
    "dataset = appendEqualCountsClass(dataset, \"lifeexp_band\", \"lifeexp\", 3, [\"L\",\"M\",\"H\"])"
   ]
  },
  {
   "cell_type": "markdown",
   "metadata": {},
   "source": [
    "Check we have an even distribution of rows across the bands:"
   ]
  },
  {
   "cell_type": "code",
   "execution_count": 14,
   "metadata": {},
   "outputs": [
    {
     "data": {
      "text/plain": [
       "H    65\n",
       "L    65\n",
       "M    64\n",
       "Name: lifeexp_band, dtype: int64"
      ]
     },
     "execution_count": 14,
     "metadata": {},
     "output_type": "execute_result"
    }
   ],
   "source": [
    "# Check how many rows in each bin\n",
    "dataset.lifeexp_band.value_counts()"
   ]
  },
  {
   "cell_type": "markdown",
   "metadata": {},
   "source": [
    "And let's check a few rows to confirm it has done as expected:"
   ]
  },
  {
   "cell_type": "code",
   "execution_count": 15,
   "metadata": {},
   "outputs": [
    {
     "data": {
      "text/html": [
       "<div>\n",
       "<style scoped>\n",
       "    .dataframe tbody tr th:only-of-type {\n",
       "        vertical-align: middle;\n",
       "    }\n",
       "\n",
       "    .dataframe tbody tr th {\n",
       "        vertical-align: top;\n",
       "    }\n",
       "\n",
       "    .dataframe thead th {\n",
       "        text-align: right;\n",
       "    }\n",
       "</style>\n",
       "<table border=\"1\" class=\"dataframe\">\n",
       "  <thead>\n",
       "    <tr style=\"text-align: right;\">\n",
       "      <th></th>\n",
       "      <th>lifeexp</th>\n",
       "      <th>lifeexp_band</th>\n",
       "    </tr>\n",
       "  </thead>\n",
       "  <tbody>\n",
       "    <tr>\n",
       "      <th>0</th>\n",
       "      <td>57.9</td>\n",
       "      <td>L</td>\n",
       "    </tr>\n",
       "    <tr>\n",
       "      <th>1</th>\n",
       "      <td>77.6</td>\n",
       "      <td>H</td>\n",
       "    </tr>\n",
       "    <tr>\n",
       "      <th>2</th>\n",
       "      <td>76.5</td>\n",
       "      <td>H</td>\n",
       "    </tr>\n",
       "    <tr>\n",
       "      <th>3</th>\n",
       "      <td>75.4</td>\n",
       "      <td>M</td>\n",
       "    </tr>\n",
       "    <tr>\n",
       "      <th>4</th>\n",
       "      <td>82.6</td>\n",
       "      <td>H</td>\n",
       "    </tr>\n",
       "  </tbody>\n",
       "</table>\n",
       "</div>"
      ],
      "text/plain": [
       "   lifeexp lifeexp_band\n",
       "0     57.9            L\n",
       "1     77.6            H\n",
       "2     76.5            H\n",
       "3     75.4            M\n",
       "4     82.6            H"
      ]
     },
     "execution_count": 15,
     "metadata": {},
     "output_type": "execute_result"
    }
   ],
   "source": [
    "# Check the binning has worked as expected\n",
    "dataset[['lifeexp','lifeexp_band']].head()"
   ]
  },
  {
   "cell_type": "markdown",
   "metadata": {},
   "source": [
    "\n",
    "### Select features and split into input and target features\n",
    "Now we need to decide which columns to use as inputs and which is our target.  Let's remind ourselves of the columns we have:"
   ]
  },
  {
   "cell_type": "code",
   "execution_count": 16,
   "metadata": {},
   "outputs": [
    {
     "data": {
      "text/plain": [
       "Index(['country', 'happiness', 'income', 'lifeexp', 'sanitation', 'water',\n",
       "       'literacy', 'inequality', 'energy', 'childmortality', 'fertility',\n",
       "       'hiv', 'foodsupply', 'population', 'lifeexp_band'],\n",
       "      dtype='object')"
      ]
     },
     "execution_count": 16,
     "metadata": {},
     "output_type": "execute_result"
    }
   ],
   "source": [
    "dataset.columns"
   ]
  },
  {
   "cell_type": "markdown",
   "metadata": {},
   "source": [
    "And let's select lifeexp_band as our target feature (the one we will predict) and everything else as the input features (the ones we will use to make the prediction)."
   ]
  },
  {
   "cell_type": "code",
   "execution_count": 17,
   "metadata": {},
   "outputs": [],
   "source": [
    "# Split into input and target features\n",
    "y = dataset[\"lifeexp_band\"]\n",
    "X = dataset[['happiness', 'income', 'sanitation', 'water', 'literacy', 'inequality', 'energy', 'childmortality', 'fertility',  'hiv', 'foodsupply', 'population']]"
   ]
  },
  {
   "cell_type": "code",
   "execution_count": 18,
   "metadata": {},
   "outputs": [
    {
     "data": {
      "text/html": [
       "<div>\n",
       "<style scoped>\n",
       "    .dataframe tbody tr th:only-of-type {\n",
       "        vertical-align: middle;\n",
       "    }\n",
       "\n",
       "    .dataframe tbody tr th {\n",
       "        vertical-align: top;\n",
       "    }\n",
       "\n",
       "    .dataframe thead th {\n",
       "        text-align: right;\n",
       "    }\n",
       "</style>\n",
       "<table border=\"1\" class=\"dataframe\">\n",
       "  <thead>\n",
       "    <tr style=\"text-align: right;\">\n",
       "      <th></th>\n",
       "      <th>happiness</th>\n",
       "      <th>income</th>\n",
       "      <th>sanitation</th>\n",
       "      <th>water</th>\n",
       "      <th>literacy</th>\n",
       "      <th>inequality</th>\n",
       "      <th>energy</th>\n",
       "      <th>childmortality</th>\n",
       "      <th>fertility</th>\n",
       "      <th>hiv</th>\n",
       "      <th>foodsupply</th>\n",
       "      <th>population</th>\n",
       "    </tr>\n",
       "  </thead>\n",
       "  <tbody>\n",
       "    <tr>\n",
       "      <th>0</th>\n",
       "      <td>3.982855</td>\n",
       "      <td>1750.0</td>\n",
       "      <td>39.2</td>\n",
       "      <td>63.0</td>\n",
       "      <td>39.000000</td>\n",
       "      <td>38.579375</td>\n",
       "      <td>2183.725325</td>\n",
       "      <td>73.2</td>\n",
       "      <td>4.80</td>\n",
       "      <td>5800.000000</td>\n",
       "      <td>2090.0</td>\n",
       "      <td>33700000</td>\n",
       "    </tr>\n",
       "    <tr>\n",
       "      <th>1</th>\n",
       "      <td>4.606651</td>\n",
       "      <td>11000.0</td>\n",
       "      <td>97.7</td>\n",
       "      <td>91.4</td>\n",
       "      <td>96.800000</td>\n",
       "      <td>29.000000</td>\n",
       "      <td>808.000000</td>\n",
       "      <td>14.0</td>\n",
       "      <td>1.71</td>\n",
       "      <td>217991.677852</td>\n",
       "      <td>3190.0</td>\n",
       "      <td>2920000</td>\n",
       "    </tr>\n",
       "    <tr>\n",
       "      <th>2</th>\n",
       "      <td>6.697131</td>\n",
       "      <td>19100.0</td>\n",
       "      <td>94.8</td>\n",
       "      <td>99.6</td>\n",
       "      <td>97.900000</td>\n",
       "      <td>41.400000</td>\n",
       "      <td>2020.000000</td>\n",
       "      <td>11.6</td>\n",
       "      <td>2.31</td>\n",
       "      <td>95000.000000</td>\n",
       "      <td>3230.0</td>\n",
       "      <td>43400000</td>\n",
       "    </tr>\n",
       "    <tr>\n",
       "      <th>3</th>\n",
       "      <td>4.348320</td>\n",
       "      <td>8180.0</td>\n",
       "      <td>91.6</td>\n",
       "      <td>98.9</td>\n",
       "      <td>99.600000</td>\n",
       "      <td>32.400000</td>\n",
       "      <td>1020.000000</td>\n",
       "      <td>14.0</td>\n",
       "      <td>1.66</td>\n",
       "      <td>3600.000000</td>\n",
       "      <td>2930.0</td>\n",
       "      <td>2920000</td>\n",
       "    </tr>\n",
       "    <tr>\n",
       "      <th>4</th>\n",
       "      <td>7.309061</td>\n",
       "      <td>43800.0</td>\n",
       "      <td>100.0</td>\n",
       "      <td>100.0</td>\n",
       "      <td>81.573826</td>\n",
       "      <td>34.700000</td>\n",
       "      <td>5480.000000</td>\n",
       "      <td>3.8</td>\n",
       "      <td>1.86</td>\n",
       "      <td>22000.000000</td>\n",
       "      <td>3280.0</td>\n",
       "      <td>23800000</td>\n",
       "    </tr>\n",
       "  </tbody>\n",
       "</table>\n",
       "</div>"
      ],
      "text/plain": [
       "   happiness   income  sanitation  water   literacy  inequality       energy  \\\n",
       "0   3.982855   1750.0        39.2   63.0  39.000000   38.579375  2183.725325   \n",
       "1   4.606651  11000.0        97.7   91.4  96.800000   29.000000   808.000000   \n",
       "2   6.697131  19100.0        94.8   99.6  97.900000   41.400000  2020.000000   \n",
       "3   4.348320   8180.0        91.6   98.9  99.600000   32.400000  1020.000000   \n",
       "4   7.309061  43800.0       100.0  100.0  81.573826   34.700000  5480.000000   \n",
       "\n",
       "   childmortality  fertility            hiv  foodsupply  population  \n",
       "0            73.2       4.80    5800.000000      2090.0    33700000  \n",
       "1            14.0       1.71  217991.677852      3190.0     2920000  \n",
       "2            11.6       2.31   95000.000000      3230.0    43400000  \n",
       "3            14.0       1.66    3600.000000      2930.0     2920000  \n",
       "4             3.8       1.86   22000.000000      3280.0    23800000  "
      ]
     },
     "execution_count": 18,
     "metadata": {},
     "output_type": "execute_result"
    }
   ],
   "source": [
    "X.head()"
   ]
  },
  {
   "cell_type": "code",
   "execution_count": 19,
   "metadata": {},
   "outputs": [
    {
     "data": {
      "text/plain": [
       "0    L\n",
       "1    H\n",
       "2    H\n",
       "3    M\n",
       "4    H\n",
       "Name: lifeexp_band, dtype: category\n",
       "Categories (3, object): [L < M < H]"
      ]
     },
     "execution_count": 19,
     "metadata": {},
     "output_type": "execute_result"
    }
   ],
   "source": [
    "y.head()"
   ]
  },
  {
   "cell_type": "markdown",
   "metadata": {},
   "source": [
    "###  Scale features\n",
    "When we ran dataset.describe() above we saw that the range of values between the min and max was different for different features.  "
   ]
  },
  {
   "cell_type": "code",
   "execution_count": 20,
   "metadata": {},
   "outputs": [
    {
     "data": {
      "text/html": [
       "<div>\n",
       "<style scoped>\n",
       "    .dataframe tbody tr th:only-of-type {\n",
       "        vertical-align: middle;\n",
       "    }\n",
       "\n",
       "    .dataframe tbody tr th {\n",
       "        vertical-align: top;\n",
       "    }\n",
       "\n",
       "    .dataframe thead th {\n",
       "        text-align: right;\n",
       "    }\n",
       "</style>\n",
       "<table border=\"1\" class=\"dataframe\">\n",
       "  <thead>\n",
       "    <tr style=\"text-align: right;\">\n",
       "      <th></th>\n",
       "      <th>happiness</th>\n",
       "      <th>income</th>\n",
       "      <th>sanitation</th>\n",
       "      <th>water</th>\n",
       "      <th>literacy</th>\n",
       "      <th>inequality</th>\n",
       "      <th>energy</th>\n",
       "      <th>childmortality</th>\n",
       "      <th>fertility</th>\n",
       "      <th>hiv</th>\n",
       "      <th>foodsupply</th>\n",
       "      <th>population</th>\n",
       "    </tr>\n",
       "  </thead>\n",
       "  <tbody>\n",
       "    <tr>\n",
       "      <th>count</th>\n",
       "      <td>194.000000</td>\n",
       "      <td>194.000000</td>\n",
       "      <td>194.000000</td>\n",
       "      <td>194.000000</td>\n",
       "      <td>194.000000</td>\n",
       "      <td>194.000000</td>\n",
       "      <td>194.000000</td>\n",
       "      <td>194.000000</td>\n",
       "      <td>194.000000</td>\n",
       "      <td>1.940000e+02</td>\n",
       "      <td>194.000000</td>\n",
       "      <td>1.940000e+02</td>\n",
       "    </tr>\n",
       "    <tr>\n",
       "      <th>mean</th>\n",
       "      <td>5.395765</td>\n",
       "      <td>17432.849741</td>\n",
       "      <td>73.838247</td>\n",
       "      <td>86.329381</td>\n",
       "      <td>81.573826</td>\n",
       "      <td>38.579375</td>\n",
       "      <td>2183.725325</td>\n",
       "      <td>31.441451</td>\n",
       "      <td>2.835924</td>\n",
       "      <td>2.179917e+05</td>\n",
       "      <td>2845.952381</td>\n",
       "      <td>3.787195e+07</td>\n",
       "    </tr>\n",
       "    <tr>\n",
       "      <th>std</th>\n",
       "      <td>0.953547</td>\n",
       "      <td>19072.580021</td>\n",
       "      <td>29.269367</td>\n",
       "      <td>17.568245</td>\n",
       "      <td>17.055722</td>\n",
       "      <td>7.257464</td>\n",
       "      <td>2618.536430</td>\n",
       "      <td>31.237992</td>\n",
       "      <td>1.336162</td>\n",
       "      <td>5.521169e+05</td>\n",
       "      <td>413.199619</td>\n",
       "      <td>1.419670e+08</td>\n",
       "    </tr>\n",
       "    <tr>\n",
       "      <th>min</th>\n",
       "      <td>2.701591</td>\n",
       "      <td>623.000000</td>\n",
       "      <td>7.080000</td>\n",
       "      <td>19.300000</td>\n",
       "      <td>25.300000</td>\n",
       "      <td>16.600000</td>\n",
       "      <td>9.580000</td>\n",
       "      <td>2.200000</td>\n",
       "      <td>1.240000</td>\n",
       "      <td>6.000000e+01</td>\n",
       "      <td>1880.000000</td>\n",
       "      <td>1.100000e+04</td>\n",
       "    </tr>\n",
       "    <tr>\n",
       "      <th>25%</th>\n",
       "      <td>4.891838</td>\n",
       "      <td>3297.500000</td>\n",
       "      <td>49.225000</td>\n",
       "      <td>77.900000</td>\n",
       "      <td>75.575000</td>\n",
       "      <td>34.000000</td>\n",
       "      <td>614.500000</td>\n",
       "      <td>8.200000</td>\n",
       "      <td>1.790000</td>\n",
       "      <td>1.025000e+04</td>\n",
       "      <td>2570.000000</td>\n",
       "      <td>1.982500e+06</td>\n",
       "    </tr>\n",
       "    <tr>\n",
       "      <th>50%</th>\n",
       "      <td>5.395765</td>\n",
       "      <td>11050.000000</td>\n",
       "      <td>87.900000</td>\n",
       "      <td>94.950000</td>\n",
       "      <td>81.573826</td>\n",
       "      <td>38.579375</td>\n",
       "      <td>1565.000000</td>\n",
       "      <td>17.900000</td>\n",
       "      <td>2.415000</td>\n",
       "      <td>7.000000e+04</td>\n",
       "      <td>2845.952381</td>\n",
       "      <td>8.435000e+06</td>\n",
       "    </tr>\n",
       "    <tr>\n",
       "      <th>75%</th>\n",
       "      <td>5.880369</td>\n",
       "      <td>24100.000000</td>\n",
       "      <td>97.700000</td>\n",
       "      <td>99.300000</td>\n",
       "      <td>95.375000</td>\n",
       "      <td>42.175000</td>\n",
       "      <td>2425.000000</td>\n",
       "      <td>49.225000</td>\n",
       "      <td>3.687500</td>\n",
       "      <td>2.179917e+05</td>\n",
       "      <td>3140.000000</td>\n",
       "      <td>2.742500e+07</td>\n",
       "    </tr>\n",
       "    <tr>\n",
       "      <th>max</th>\n",
       "      <td>7.603434</td>\n",
       "      <td>120000.000000</td>\n",
       "      <td>100.000000</td>\n",
       "      <td>100.000000</td>\n",
       "      <td>100.000000</td>\n",
       "      <td>63.000000</td>\n",
       "      <td>18600.000000</td>\n",
       "      <td>137.000000</td>\n",
       "      <td>7.290000</td>\n",
       "      <td>5.600000e+06</td>\n",
       "      <td>3770.000000</td>\n",
       "      <td>1.400000e+09</td>\n",
       "    </tr>\n",
       "  </tbody>\n",
       "</table>\n",
       "</div>"
      ],
      "text/plain": [
       "        happiness         income  sanitation       water    literacy  \\\n",
       "count  194.000000     194.000000  194.000000  194.000000  194.000000   \n",
       "mean     5.395765   17432.849741   73.838247   86.329381   81.573826   \n",
       "std      0.953547   19072.580021   29.269367   17.568245   17.055722   \n",
       "min      2.701591     623.000000    7.080000   19.300000   25.300000   \n",
       "25%      4.891838    3297.500000   49.225000   77.900000   75.575000   \n",
       "50%      5.395765   11050.000000   87.900000   94.950000   81.573826   \n",
       "75%      5.880369   24100.000000   97.700000   99.300000   95.375000   \n",
       "max      7.603434  120000.000000  100.000000  100.000000  100.000000   \n",
       "\n",
       "       inequality        energy  childmortality   fertility           hiv  \\\n",
       "count  194.000000    194.000000      194.000000  194.000000  1.940000e+02   \n",
       "mean    38.579375   2183.725325       31.441451    2.835924  2.179917e+05   \n",
       "std      7.257464   2618.536430       31.237992    1.336162  5.521169e+05   \n",
       "min     16.600000      9.580000        2.200000    1.240000  6.000000e+01   \n",
       "25%     34.000000    614.500000        8.200000    1.790000  1.025000e+04   \n",
       "50%     38.579375   1565.000000       17.900000    2.415000  7.000000e+04   \n",
       "75%     42.175000   2425.000000       49.225000    3.687500  2.179917e+05   \n",
       "max     63.000000  18600.000000      137.000000    7.290000  5.600000e+06   \n",
       "\n",
       "        foodsupply    population  \n",
       "count   194.000000  1.940000e+02  \n",
       "mean   2845.952381  3.787195e+07  \n",
       "std     413.199619  1.419670e+08  \n",
       "min    1880.000000  1.100000e+04  \n",
       "25%    2570.000000  1.982500e+06  \n",
       "50%    2845.952381  8.435000e+06  \n",
       "75%    3140.000000  2.742500e+07  \n",
       "max    3770.000000  1.400000e+09  "
      ]
     },
     "execution_count": 20,
     "metadata": {},
     "output_type": "execute_result"
    }
   ],
   "source": [
    "X.describe()"
   ]
  },
  {
   "cell_type": "markdown",
   "metadata": {},
   "source": [
    "Many algorithms will not perform at their best when presented with such data, so we will scale the data to all be in the range 0 to 1:"
   ]
  },
  {
   "cell_type": "code",
   "execution_count": 22,
   "metadata": {},
   "outputs": [],
   "source": [
    "# Rescale the data\n",
    "scaler = MinMaxScaler(feature_range=(0,1))\n",
    "rescaledX = scaler.fit_transform(X)\n",
    "\n",
    "# Convert X back to a Pandas DataFrame, for convenience\n",
    "X = pd.DataFrame(rescaledX, columns=X.columns)"
   ]
  },
  {
   "cell_type": "markdown",
   "metadata": {},
   "source": [
    "We can now see every feature now has a min of 0 and a max of 1:"
   ]
  },
  {
   "cell_type": "code",
   "execution_count": 23,
   "metadata": {},
   "outputs": [
    {
     "data": {
      "text/html": [
       "<div>\n",
       "<style scoped>\n",
       "    .dataframe tbody tr th:only-of-type {\n",
       "        vertical-align: middle;\n",
       "    }\n",
       "\n",
       "    .dataframe tbody tr th {\n",
       "        vertical-align: top;\n",
       "    }\n",
       "\n",
       "    .dataframe thead th {\n",
       "        text-align: right;\n",
       "    }\n",
       "</style>\n",
       "<table border=\"1\" class=\"dataframe\">\n",
       "  <thead>\n",
       "    <tr style=\"text-align: right;\">\n",
       "      <th></th>\n",
       "      <th>happiness</th>\n",
       "      <th>income</th>\n",
       "      <th>sanitation</th>\n",
       "      <th>water</th>\n",
       "      <th>literacy</th>\n",
       "      <th>inequality</th>\n",
       "      <th>energy</th>\n",
       "      <th>childmortality</th>\n",
       "      <th>fertility</th>\n",
       "      <th>hiv</th>\n",
       "      <th>foodsupply</th>\n",
       "      <th>population</th>\n",
       "    </tr>\n",
       "  </thead>\n",
       "  <tbody>\n",
       "    <tr>\n",
       "      <th>count</th>\n",
       "      <td>194.000000</td>\n",
       "      <td>194.000000</td>\n",
       "      <td>194.000000</td>\n",
       "      <td>194.000000</td>\n",
       "      <td>194.000000</td>\n",
       "      <td>194.000000</td>\n",
       "      <td>194.000000</td>\n",
       "      <td>194.000000</td>\n",
       "      <td>194.000000</td>\n",
       "      <td>194.000000</td>\n",
       "      <td>194.000000</td>\n",
       "      <td>194.000000</td>\n",
       "    </tr>\n",
       "    <tr>\n",
       "      <th>mean</th>\n",
       "      <td>0.549625</td>\n",
       "      <td>0.140813</td>\n",
       "      <td>0.718449</td>\n",
       "      <td>0.830600</td>\n",
       "      <td>0.753331</td>\n",
       "      <td>0.473693</td>\n",
       "      <td>0.116950</td>\n",
       "      <td>0.216925</td>\n",
       "      <td>0.263789</td>\n",
       "      <td>0.038917</td>\n",
       "      <td>0.511086</td>\n",
       "      <td>0.027044</td>\n",
       "    </tr>\n",
       "    <tr>\n",
       "      <th>std</th>\n",
       "      <td>0.194528</td>\n",
       "      <td>0.159768</td>\n",
       "      <td>0.314995</td>\n",
       "      <td>0.217698</td>\n",
       "      <td>0.228323</td>\n",
       "      <td>0.156411</td>\n",
       "      <td>0.140854</td>\n",
       "      <td>0.231736</td>\n",
       "      <td>0.220853</td>\n",
       "      <td>0.098593</td>\n",
       "      <td>0.218624</td>\n",
       "      <td>0.101406</td>\n",
       "    </tr>\n",
       "    <tr>\n",
       "      <th>min</th>\n",
       "      <td>0.000000</td>\n",
       "      <td>0.000000</td>\n",
       "      <td>0.000000</td>\n",
       "      <td>0.000000</td>\n",
       "      <td>0.000000</td>\n",
       "      <td>0.000000</td>\n",
       "      <td>0.000000</td>\n",
       "      <td>0.000000</td>\n",
       "      <td>0.000000</td>\n",
       "      <td>0.000000</td>\n",
       "      <td>0.000000</td>\n",
       "      <td>0.000000</td>\n",
       "    </tr>\n",
       "    <tr>\n",
       "      <th>25%</th>\n",
       "      <td>0.446821</td>\n",
       "      <td>0.022404</td>\n",
       "      <td>0.453562</td>\n",
       "      <td>0.726146</td>\n",
       "      <td>0.673025</td>\n",
       "      <td>0.375000</td>\n",
       "      <td>0.032539</td>\n",
       "      <td>0.044510</td>\n",
       "      <td>0.090909</td>\n",
       "      <td>0.001820</td>\n",
       "      <td>0.365079</td>\n",
       "      <td>0.001408</td>\n",
       "    </tr>\n",
       "    <tr>\n",
       "      <th>50%</th>\n",
       "      <td>0.549625</td>\n",
       "      <td>0.087345</td>\n",
       "      <td>0.869780</td>\n",
       "      <td>0.937423</td>\n",
       "      <td>0.753331</td>\n",
       "      <td>0.473693</td>\n",
       "      <td>0.083668</td>\n",
       "      <td>0.116469</td>\n",
       "      <td>0.194215</td>\n",
       "      <td>0.012489</td>\n",
       "      <td>0.511086</td>\n",
       "      <td>0.006017</td>\n",
       "    </tr>\n",
       "    <tr>\n",
       "      <th>75%</th>\n",
       "      <td>0.648486</td>\n",
       "      <td>0.196663</td>\n",
       "      <td>0.975248</td>\n",
       "      <td>0.991326</td>\n",
       "      <td>0.938086</td>\n",
       "      <td>0.551185</td>\n",
       "      <td>0.129928</td>\n",
       "      <td>0.348850</td>\n",
       "      <td>0.404545</td>\n",
       "      <td>0.038917</td>\n",
       "      <td>0.666667</td>\n",
       "      <td>0.019582</td>\n",
       "    </tr>\n",
       "    <tr>\n",
       "      <th>max</th>\n",
       "      <td>1.000000</td>\n",
       "      <td>1.000000</td>\n",
       "      <td>1.000000</td>\n",
       "      <td>1.000000</td>\n",
       "      <td>1.000000</td>\n",
       "      <td>1.000000</td>\n",
       "      <td>1.000000</td>\n",
       "      <td>1.000000</td>\n",
       "      <td>1.000000</td>\n",
       "      <td>1.000000</td>\n",
       "      <td>1.000000</td>\n",
       "      <td>1.000000</td>\n",
       "    </tr>\n",
       "  </tbody>\n",
       "</table>\n",
       "</div>"
      ],
      "text/plain": [
       "        happiness      income  sanitation       water    literacy  inequality  \\\n",
       "count  194.000000  194.000000  194.000000  194.000000  194.000000  194.000000   \n",
       "mean     0.549625    0.140813    0.718449    0.830600    0.753331    0.473693   \n",
       "std      0.194528    0.159768    0.314995    0.217698    0.228323    0.156411   \n",
       "min      0.000000    0.000000    0.000000    0.000000    0.000000    0.000000   \n",
       "25%      0.446821    0.022404    0.453562    0.726146    0.673025    0.375000   \n",
       "50%      0.549625    0.087345    0.869780    0.937423    0.753331    0.473693   \n",
       "75%      0.648486    0.196663    0.975248    0.991326    0.938086    0.551185   \n",
       "max      1.000000    1.000000    1.000000    1.000000    1.000000    1.000000   \n",
       "\n",
       "           energy  childmortality   fertility         hiv  foodsupply  \\\n",
       "count  194.000000      194.000000  194.000000  194.000000  194.000000   \n",
       "mean     0.116950        0.216925    0.263789    0.038917    0.511086   \n",
       "std      0.140854        0.231736    0.220853    0.098593    0.218624   \n",
       "min      0.000000        0.000000    0.000000    0.000000    0.000000   \n",
       "25%      0.032539        0.044510    0.090909    0.001820    0.365079   \n",
       "50%      0.083668        0.116469    0.194215    0.012489    0.511086   \n",
       "75%      0.129928        0.348850    0.404545    0.038917    0.666667   \n",
       "max      1.000000        1.000000    1.000000    1.000000    1.000000   \n",
       "\n",
       "       population  \n",
       "count  194.000000  \n",
       "mean     0.027044  \n",
       "std      0.101406  \n",
       "min      0.000000  \n",
       "25%      0.001408  \n",
       "50%      0.006017  \n",
       "75%      0.019582  \n",
       "max      1.000000  "
      ]
     },
     "execution_count": 23,
     "metadata": {},
     "output_type": "execute_result"
    }
   ],
   "source": [
    "X.describe()"
   ]
  },
  {
   "cell_type": "markdown",
   "metadata": {},
   "source": [
    "## Build Models\n",
    "BUild both decision trees and logistic regression models and see which one performs the best.\n",
    "\n",
    "\n",
    "### Split into test and training sets\n",
    "Split the X and y sets into training and test sets."
   ]
  },
  {
   "cell_type": "code",
   "execution_count": 24,
   "metadata": {},
   "outputs": [],
   "source": [
    "# Split into test and training sets\n",
    "test_size = 0.33\n",
    "seed = 1\n",
    "X_train, X_test, Y_train, Y_test =  train_test_split(X, y, test_size=test_size, random_state=seed)"
   ]
  },
  {
   "cell_type": "markdown",
   "metadata": {},
   "source": [
    "### Create multiple models and fit them\n",
    "Let's build both models and fit with the training data."
   ]
  },
  {
   "cell_type": "code",
   "execution_count": 25,
   "metadata": {},
   "outputs": [
    {
     "data": {
      "text/plain": [
       "DecisionTreeClassifier(class_weight=None, criterion='gini', max_depth=None,\n",
       "            max_features=None, max_leaf_nodes=None,\n",
       "            min_impurity_decrease=0.0, min_impurity_split=None,\n",
       "            min_samples_leaf=1, min_samples_split=2,\n",
       "            min_weight_fraction_leaf=0.0, presort=False, random_state=None,\n",
       "            splitter='best')"
      ]
     },
     "execution_count": 25,
     "metadata": {},
     "output_type": "execute_result"
    }
   ],
   "source": [
    "# Build a decision tree model\n",
    "model_dt = DecisionTreeClassifier()\n",
    "model_dt.fit(X_train, Y_train)"
   ]
  },
  {
   "cell_type": "code",
   "execution_count": 26,
   "metadata": {},
   "outputs": [
    {
     "data": {
      "text/plain": [
       "LogisticRegression(C=1.0, class_weight=None, dual=False, fit_intercept=True,\n",
       "          intercept_scaling=1, max_iter=100, multi_class='auto',\n",
       "          n_jobs=None, penalty='l2', random_state=None, solver='lbfgs',\n",
       "          tol=0.0001, verbose=0, warm_start=False)"
      ]
     },
     "execution_count": 26,
     "metadata": {},
     "output_type": "execute_result"
    }
   ],
   "source": [
    "# Build a logistic regression model\n",
    "model_lr = LogisticRegression(solver='lbfgs', multi_class='auto')\n",
    "model_lr.fit(X_train, Y_train)"
   ]
  },
  {
   "cell_type": "markdown",
   "metadata": {},
   "source": [
    "### Check the models\n",
    "Run the training data through both models and see how it performs."
   ]
  },
  {
   "cell_type": "code",
   "execution_count": 27,
   "metadata": {},
   "outputs": [
    {
     "name": "stdout",
     "output_type": "stream",
     "text": [
      "DecisionTreeClassifier 1.0\n"
     ]
    }
   ],
   "source": [
    "# Check the model performance with the training data\n",
    "predictions_dt = model_dt.predict(X_train)\n",
    "print(\"DecisionTreeClassifier\", accuracy_score(Y_train, predictions_dt))"
   ]
  },
  {
   "cell_type": "code",
   "execution_count": 28,
   "metadata": {},
   "outputs": [
    {
     "name": "stdout",
     "output_type": "stream",
     "text": [
      "LogisticRegression 0.8217054263565892\n"
     ]
    }
   ],
   "source": [
    "# Check the model performance with the training data\n",
    "predictions_lr = model_lr.predict(X_train)\n",
    "print(\"LogisticRegression\", accuracy_score(Y_train, predictions_lr))"
   ]
  },
  {
   "cell_type": "markdown",
   "metadata": {},
   "source": [
    "## Evaluate the models\n",
    "Now we evaluate the models by testing with the test set:"
   ]
  },
  {
   "cell_type": "code",
   "execution_count": 29,
   "metadata": {},
   "outputs": [
    {
     "name": "stdout",
     "output_type": "stream",
     "text": [
      "DecisionTreeClassifier 0.676923076923077\n"
     ]
    }
   ],
   "source": [
    "predictions_dt = model_dt.predict(X_test)\n",
    "print(\"DecisionTreeClassifier\", accuracy_score(Y_test, predictions_dt))"
   ]
  },
  {
   "cell_type": "code",
   "execution_count": 30,
   "metadata": {},
   "outputs": [
    {
     "name": "stdout",
     "output_type": "stream",
     "text": [
      "LogisticRegression 0.7230769230769231\n"
     ]
    }
   ],
   "source": [
    "predictions_lr = model_lr.predict(X_test)\n",
    "print(\"LogisticRegression\", accuracy_score(Y_test, predictions_lr))"
   ]
  },
  {
   "cell_type": "markdown",
   "metadata": {},
   "source": [
    "### Choose the best performing model\n",
    "Logistic Regression model will be our chosen model as it performed the best."
   ]
  },
  {
   "cell_type": "code",
   "execution_count": 31,
   "metadata": {},
   "outputs": [],
   "source": [
    "model = model_lr"
   ]
  },
  {
   "cell_type": "markdown",
   "metadata": {},
   "source": [
    "## Iterate!\n",
    "At this point, you should review your code and process and see what improvements could be made."
   ]
  },
  {
   "cell_type": "markdown",
   "metadata": {},
   "source": [
    "## Inspect the models\n",
    "Here is the decision tree created for this exericise:"
   ]
  },
  {
   "cell_type": "code",
   "execution_count": 32,
   "metadata": {},
   "outputs": [
    {
     "data": {
      "image/svg+xml": [
       "<?xml version=\"1.0\" encoding=\"UTF-8\" standalone=\"no\"?>\r\n",
       "<!DOCTYPE svg PUBLIC \"-//W3C//DTD SVG 1.1//EN\"\r\n",
       " \"http://www.w3.org/Graphics/SVG/1.1/DTD/svg11.dtd\">\r\n",
       "<!-- Generated by graphviz version 2.38.0 (20140413.2041)\r\n",
       " -->\r\n",
       "<!-- Title: Tree Pages: 1 -->\r\n",
       "<svg width=\"1413pt\" height=\"1028pt\"\r\n",
       " viewBox=\"0.00 0.00 1413.00 1028.00\" xmlns=\"http://www.w3.org/2000/svg\" xmlns:xlink=\"http://www.w3.org/1999/xlink\">\r\n",
       "<g id=\"graph0\" class=\"graph\" transform=\"scale(1 1) rotate(0) translate(4 1024)\">\r\n",
       "<title>Tree</title>\r\n",
       "<polygon fill=\"white\" stroke=\"none\" points=\"-4,4 -4,-1024 1409,-1024 1409,4 -4,4\"/>\r\n",
       "<!-- 0 -->\r\n",
       "<g id=\"node1\" class=\"node\"><title>0</title>\r\n",
       "<path fill=\"#39e581\" fill-opacity=\"0.082353\" stroke=\"black\" d=\"M608,-1020C608,-1020 495,-1020 495,-1020 489,-1020 483,-1014 483,-1008 483,-1008 483,-949 483,-949 483,-943 489,-937 495,-937 495,-937 608,-937 608,-937 614,-937 620,-943 620,-949 620,-949 620,-1008 620,-1008 620,-1014 614,-1020 608,-1020\"/>\r\n",
       "<text text-anchor=\"start\" x=\"495.5\" y=\"-1004.8\" font-family=\"Helvetica,sans-Serif\" font-size=\"14.00\">sanitation ≤ 0.728</text>\r\n",
       "<text text-anchor=\"start\" x=\"514\" y=\"-989.8\" font-family=\"Helvetica,sans-Serif\" font-size=\"14.00\">gini = 0.663</text>\r\n",
       "<text text-anchor=\"start\" x=\"504\" y=\"-974.8\" font-family=\"Helvetica,sans-Serif\" font-size=\"14.00\">samples = 129</text>\r\n",
       "<text text-anchor=\"start\" x=\"491\" y=\"-959.8\" font-family=\"Helvetica,sans-Serif\" font-size=\"14.00\">value = [38, 49, 42]</text>\r\n",
       "<text text-anchor=\"start\" x=\"522.5\" y=\"-944.8\" font-family=\"Helvetica,sans-Serif\" font-size=\"14.00\">class = L</text>\r\n",
       "</g>\r\n",
       "<!-- 1 -->\r\n",
       "<g id=\"node2\" class=\"node\"><title>1</title>\r\n",
       "<path fill=\"#39e581\" fill-opacity=\"0.870588\" stroke=\"black\" d=\"M526,-901C526,-901 429,-901 429,-901 423,-901 417,-895 417,-889 417,-889 417,-830 417,-830 417,-824 423,-818 429,-818 429,-818 526,-818 526,-818 532,-818 538,-824 538,-830 538,-830 538,-889 538,-889 538,-895 532,-901 526,-901\"/>\r\n",
       "<text text-anchor=\"start\" x=\"434.5\" y=\"-885.8\" font-family=\"Helvetica,sans-Serif\" font-size=\"14.00\">water ≤ 0.897</text>\r\n",
       "<text text-anchor=\"start\" x=\"440\" y=\"-870.8\" font-family=\"Helvetica,sans-Serif\" font-size=\"14.00\">gini = 0.204</text>\r\n",
       "<text text-anchor=\"start\" x=\"434\" y=\"-855.8\" font-family=\"Helvetica,sans-Serif\" font-size=\"14.00\">samples = 52</text>\r\n",
       "<text text-anchor=\"start\" x=\"425\" y=\"-840.8\" font-family=\"Helvetica,sans-Serif\" font-size=\"14.00\">value = [0, 46, 6]</text>\r\n",
       "<text text-anchor=\"start\" x=\"448.5\" y=\"-825.8\" font-family=\"Helvetica,sans-Serif\" font-size=\"14.00\">class = L</text>\r\n",
       "</g>\r\n",
       "<!-- 0&#45;&gt;1 -->\r\n",
       "<g id=\"edge1\" class=\"edge\"><title>0&#45;&gt;1</title>\r\n",
       "<path fill=\"none\" stroke=\"black\" d=\"M525.826,-936.907C520.258,-928.105 514.312,-918.703 508.562,-909.612\"/>\r\n",
       "<polygon fill=\"black\" stroke=\"black\" points=\"511.432,-907.601 503.129,-901.021 505.516,-911.343 511.432,-907.601\"/>\r\n",
       "<text text-anchor=\"middle\" x=\"497.638\" y=\"-921.71\" font-family=\"Helvetica,sans-Serif\" font-size=\"14.00\">True</text>\r\n",
       "</g>\r\n",
       "<!-- 10 -->\r\n",
       "<g id=\"node11\" class=\"node\"><title>10</title>\r\n",
       "<path fill=\"#e58139\" fill-opacity=\"0.047059\" stroke=\"black\" d=\"M680.5,-901C680.5,-901 570.5,-901 570.5,-901 564.5,-901 558.5,-895 558.5,-889 558.5,-889 558.5,-830 558.5,-830 558.5,-824 564.5,-818 570.5,-818 570.5,-818 680.5,-818 680.5,-818 686.5,-818 692.5,-824 692.5,-830 692.5,-830 692.5,-889 692.5,-889 692.5,-895 686.5,-901 680.5,-901\"/>\r\n",
       "<text text-anchor=\"start\" x=\"566.5\" y=\"-885.8\" font-family=\"Helvetica,sans-Serif\" font-size=\"14.00\">happiness ≤ 0.744</text>\r\n",
       "<text text-anchor=\"start\" x=\"588\" y=\"-870.8\" font-family=\"Helvetica,sans-Serif\" font-size=\"14.00\">gini = 0.536</text>\r\n",
       "<text text-anchor=\"start\" x=\"582\" y=\"-855.8\" font-family=\"Helvetica,sans-Serif\" font-size=\"14.00\">samples = 77</text>\r\n",
       "<text text-anchor=\"start\" x=\"569\" y=\"-840.8\" font-family=\"Helvetica,sans-Serif\" font-size=\"14.00\">value = [38, 3, 36]</text>\r\n",
       "<text text-anchor=\"start\" x=\"596\" y=\"-825.8\" font-family=\"Helvetica,sans-Serif\" font-size=\"14.00\">class = H</text>\r\n",
       "</g>\r\n",
       "<!-- 0&#45;&gt;10 -->\r\n",
       "<g id=\"edge10\" class=\"edge\"><title>0&#45;&gt;10</title>\r\n",
       "<path fill=\"none\" stroke=\"black\" d=\"M577.174,-936.907C582.742,-928.105 588.688,-918.703 594.438,-909.612\"/>\r\n",
       "<polygon fill=\"black\" stroke=\"black\" points=\"597.484,-911.343 599.871,-901.021 591.568,-907.601 597.484,-911.343\"/>\r\n",
       "<text text-anchor=\"middle\" x=\"605.362\" y=\"-921.71\" font-family=\"Helvetica,sans-Serif\" font-size=\"14.00\">False</text>\r\n",
       "</g>\r\n",
       "<!-- 2 -->\r\n",
       "<g id=\"node3\" class=\"node\"><title>2</title>\r\n",
       "<path fill=\"#39e581\" fill-opacity=\"0.956863\" stroke=\"black\" d=\"M387,-782C387,-782 284,-782 284,-782 278,-782 272,-776 272,-770 272,-770 272,-711 272,-711 272,-705 278,-699 284,-699 284,-699 387,-699 387,-699 393,-699 399,-705 399,-711 399,-711 399,-770 399,-770 399,-776 393,-782 387,-782\"/>\r\n",
       "<text text-anchor=\"start\" x=\"280\" y=\"-766.8\" font-family=\"Helvetica,sans-Serif\" font-size=\"14.00\">inequality ≤ 0.319</text>\r\n",
       "<text text-anchor=\"start\" x=\"302\" y=\"-751.8\" font-family=\"Helvetica,sans-Serif\" font-size=\"14.00\">gini = 0.08</text>\r\n",
       "<text text-anchor=\"start\" x=\"292\" y=\"-736.8\" font-family=\"Helvetica,sans-Serif\" font-size=\"14.00\">samples = 48</text>\r\n",
       "<text text-anchor=\"start\" x=\"283\" y=\"-721.8\" font-family=\"Helvetica,sans-Serif\" font-size=\"14.00\">value = [0, 46, 2]</text>\r\n",
       "<text text-anchor=\"start\" x=\"306.5\" y=\"-706.8\" font-family=\"Helvetica,sans-Serif\" font-size=\"14.00\">class = L</text>\r\n",
       "</g>\r\n",
       "<!-- 1&#45;&gt;2 -->\r\n",
       "<g id=\"edge2\" class=\"edge\"><title>1&#45;&gt;2</title>\r\n",
       "<path fill=\"none\" stroke=\"black\" d=\"M428.234,-817.907C416.779,-808.469 404.489,-798.343 392.724,-788.649\"/>\r\n",
       "<polygon fill=\"black\" stroke=\"black\" points=\"394.623,-785.679 384.679,-782.021 390.171,-791.081 394.623,-785.679\"/>\r\n",
       "</g>\r\n",
       "<!-- 9 -->\r\n",
       "<g id=\"node10\" class=\"node\"><title>9</title>\r\n",
       "<path fill=\"#8139e5\" stroke=\"black\" d=\"M522,-774.5C522,-774.5 433,-774.5 433,-774.5 427,-774.5 421,-768.5 421,-762.5 421,-762.5 421,-718.5 421,-718.5 421,-712.5 427,-706.5 433,-706.5 433,-706.5 522,-706.5 522,-706.5 528,-706.5 534,-712.5 534,-718.5 534,-718.5 534,-762.5 534,-762.5 534,-768.5 528,-774.5 522,-774.5\"/>\r\n",
       "<text text-anchor=\"start\" x=\"448.5\" y=\"-759.3\" font-family=\"Helvetica,sans-Serif\" font-size=\"14.00\">gini = 0.0</text>\r\n",
       "<text text-anchor=\"start\" x=\"438\" y=\"-744.3\" font-family=\"Helvetica,sans-Serif\" font-size=\"14.00\">samples = 4</text>\r\n",
       "<text text-anchor=\"start\" x=\"429\" y=\"-729.3\" font-family=\"Helvetica,sans-Serif\" font-size=\"14.00\">value = [0, 0, 4]</text>\r\n",
       "<text text-anchor=\"start\" x=\"447\" y=\"-714.3\" font-family=\"Helvetica,sans-Serif\" font-size=\"14.00\">class = M</text>\r\n",
       "</g>\r\n",
       "<!-- 1&#45;&gt;9 -->\r\n",
       "<g id=\"edge9\" class=\"edge\"><title>1&#45;&gt;9</title>\r\n",
       "<path fill=\"none\" stroke=\"black\" d=\"M477.5,-817.907C477.5,-807.204 477.5,-795.615 477.5,-784.776\"/>\r\n",
       "<polygon fill=\"black\" stroke=\"black\" points=\"481,-784.667 477.5,-774.667 474,-784.667 481,-784.667\"/>\r\n",
       "</g>\r\n",
       "<!-- 3 -->\r\n",
       "<g id=\"node4\" class=\"node\"><title>3</title>\r\n",
       "<path fill=\"#8139e5\" stroke=\"black\" d=\"M230,-655.5C230,-655.5 141,-655.5 141,-655.5 135,-655.5 129,-649.5 129,-643.5 129,-643.5 129,-599.5 129,-599.5 129,-593.5 135,-587.5 141,-587.5 141,-587.5 230,-587.5 230,-587.5 236,-587.5 242,-593.5 242,-599.5 242,-599.5 242,-643.5 242,-643.5 242,-649.5 236,-655.5 230,-655.5\"/>\r\n",
       "<text text-anchor=\"start\" x=\"156.5\" y=\"-640.3\" font-family=\"Helvetica,sans-Serif\" font-size=\"14.00\">gini = 0.0</text>\r\n",
       "<text text-anchor=\"start\" x=\"146\" y=\"-625.3\" font-family=\"Helvetica,sans-Serif\" font-size=\"14.00\">samples = 1</text>\r\n",
       "<text text-anchor=\"start\" x=\"137\" y=\"-610.3\" font-family=\"Helvetica,sans-Serif\" font-size=\"14.00\">value = [0, 0, 1]</text>\r\n",
       "<text text-anchor=\"start\" x=\"155\" y=\"-595.3\" font-family=\"Helvetica,sans-Serif\" font-size=\"14.00\">class = M</text>\r\n",
       "</g>\r\n",
       "<!-- 2&#45;&gt;3 -->\r\n",
       "<g id=\"edge3\" class=\"edge\"><title>2&#45;&gt;3</title>\r\n",
       "<path fill=\"none\" stroke=\"black\" d=\"M283.458,-698.907C268.18,-686.99 251.494,-673.976 236.295,-662.12\"/>\r\n",
       "<polygon fill=\"black\" stroke=\"black\" points=\"238.059,-659.058 228.022,-655.667 233.754,-664.577 238.059,-659.058\"/>\r\n",
       "</g>\r\n",
       "<!-- 4 -->\r\n",
       "<g id=\"node5\" class=\"node\"><title>4</title>\r\n",
       "<path fill=\"#39e581\" fill-opacity=\"0.976471\" stroke=\"black\" d=\"M398.5,-663C398.5,-663 272.5,-663 272.5,-663 266.5,-663 260.5,-657 260.5,-651 260.5,-651 260.5,-592 260.5,-592 260.5,-586 266.5,-580 272.5,-580 272.5,-580 398.5,-580 398.5,-580 404.5,-580 410.5,-586 410.5,-592 410.5,-592 410.5,-651 410.5,-651 410.5,-657 404.5,-663 398.5,-663\"/>\r\n",
       "<text text-anchor=\"start\" x=\"268.5\" y=\"-647.8\" font-family=\"Helvetica,sans-Serif\" font-size=\"14.00\">childmortality ≤ 0.164</text>\r\n",
       "<text text-anchor=\"start\" x=\"298\" y=\"-632.8\" font-family=\"Helvetica,sans-Serif\" font-size=\"14.00\">gini = 0.042</text>\r\n",
       "<text text-anchor=\"start\" x=\"292\" y=\"-617.8\" font-family=\"Helvetica,sans-Serif\" font-size=\"14.00\">samples = 47</text>\r\n",
       "<text text-anchor=\"start\" x=\"283\" y=\"-602.8\" font-family=\"Helvetica,sans-Serif\" font-size=\"14.00\">value = [0, 46, 1]</text>\r\n",
       "<text text-anchor=\"start\" x=\"306.5\" y=\"-587.8\" font-family=\"Helvetica,sans-Serif\" font-size=\"14.00\">class = L</text>\r\n",
       "</g>\r\n",
       "<!-- 2&#45;&gt;4 -->\r\n",
       "<g id=\"edge4\" class=\"edge\"><title>2&#45;&gt;4</title>\r\n",
       "<path fill=\"none\" stroke=\"black\" d=\"M335.5,-698.907C335.5,-690.649 335.5,-681.864 335.5,-673.302\"/>\r\n",
       "<polygon fill=\"black\" stroke=\"black\" points=\"339,-673.021 335.5,-663.021 332,-673.021 339,-673.021\"/>\r\n",
       "</g>\r\n",
       "<!-- 5 -->\r\n",
       "<g id=\"node6\" class=\"node\"><title>5</title>\r\n",
       "<path fill=\"none\" stroke=\"black\" d=\"M242.5,-544C242.5,-544 132.5,-544 132.5,-544 126.5,-544 120.5,-538 120.5,-532 120.5,-532 120.5,-473 120.5,-473 120.5,-467 126.5,-461 132.5,-461 132.5,-461 242.5,-461 242.5,-461 248.5,-461 254.5,-467 254.5,-473 254.5,-473 254.5,-532 254.5,-532 254.5,-538 248.5,-544 242.5,-544\"/>\r\n",
       "<text text-anchor=\"start\" x=\"128.5\" y=\"-528.8\" font-family=\"Helvetica,sans-Serif\" font-size=\"14.00\">population ≤ 0.001</text>\r\n",
       "<text text-anchor=\"start\" x=\"158.5\" y=\"-513.8\" font-family=\"Helvetica,sans-Serif\" font-size=\"14.00\">gini = 0.5</text>\r\n",
       "<text text-anchor=\"start\" x=\"148\" y=\"-498.8\" font-family=\"Helvetica,sans-Serif\" font-size=\"14.00\">samples = 2</text>\r\n",
       "<text text-anchor=\"start\" x=\"139\" y=\"-483.8\" font-family=\"Helvetica,sans-Serif\" font-size=\"14.00\">value = [0, 1, 1]</text>\r\n",
       "<text text-anchor=\"start\" x=\"158.5\" y=\"-468.8\" font-family=\"Helvetica,sans-Serif\" font-size=\"14.00\">class = L</text>\r\n",
       "</g>\r\n",
       "<!-- 4&#45;&gt;5 -->\r\n",
       "<g id=\"edge5\" class=\"edge\"><title>4&#45;&gt;5</title>\r\n",
       "<path fill=\"none\" stroke=\"black\" d=\"M284.152,-579.907C272.099,-570.379 259.158,-560.148 246.788,-550.37\"/>\r\n",
       "<polygon fill=\"black\" stroke=\"black\" points=\"248.772,-547.477 238.757,-544.021 244.431,-552.968 248.772,-547.477\"/>\r\n",
       "</g>\r\n",
       "<!-- 8 -->\r\n",
       "<g id=\"node9\" class=\"node\"><title>8</title>\r\n",
       "<path fill=\"#39e581\" stroke=\"black\" d=\"M384,-536.5C384,-536.5 287,-536.5 287,-536.5 281,-536.5 275,-530.5 275,-524.5 275,-524.5 275,-480.5 275,-480.5 275,-474.5 281,-468.5 287,-468.5 287,-468.5 384,-468.5 384,-468.5 390,-468.5 396,-474.5 396,-480.5 396,-480.5 396,-524.5 396,-524.5 396,-530.5 390,-536.5 384,-536.5\"/>\r\n",
       "<text text-anchor=\"start\" x=\"306.5\" y=\"-521.3\" font-family=\"Helvetica,sans-Serif\" font-size=\"14.00\">gini = 0.0</text>\r\n",
       "<text text-anchor=\"start\" x=\"292\" y=\"-506.3\" font-family=\"Helvetica,sans-Serif\" font-size=\"14.00\">samples = 45</text>\r\n",
       "<text text-anchor=\"start\" x=\"283\" y=\"-491.3\" font-family=\"Helvetica,sans-Serif\" font-size=\"14.00\">value = [0, 45, 0]</text>\r\n",
       "<text text-anchor=\"start\" x=\"306.5\" y=\"-476.3\" font-family=\"Helvetica,sans-Serif\" font-size=\"14.00\">class = L</text>\r\n",
       "</g>\r\n",
       "<!-- 4&#45;&gt;8 -->\r\n",
       "<g id=\"edge8\" class=\"edge\"><title>4&#45;&gt;8</title>\r\n",
       "<path fill=\"none\" stroke=\"black\" d=\"M335.5,-579.907C335.5,-569.204 335.5,-557.615 335.5,-546.776\"/>\r\n",
       "<polygon fill=\"black\" stroke=\"black\" points=\"339,-546.667 335.5,-536.667 332,-546.667 339,-546.667\"/>\r\n",
       "</g>\r\n",
       "<!-- 6 -->\r\n",
       "<g id=\"node7\" class=\"node\"><title>6</title>\r\n",
       "<path fill=\"#8139e5\" stroke=\"black\" d=\"M101,-417.5C101,-417.5 12,-417.5 12,-417.5 6,-417.5 0,-411.5 0,-405.5 0,-405.5 0,-361.5 0,-361.5 0,-355.5 6,-349.5 12,-349.5 12,-349.5 101,-349.5 101,-349.5 107,-349.5 113,-355.5 113,-361.5 113,-361.5 113,-405.5 113,-405.5 113,-411.5 107,-417.5 101,-417.5\"/>\r\n",
       "<text text-anchor=\"start\" x=\"27.5\" y=\"-402.3\" font-family=\"Helvetica,sans-Serif\" font-size=\"14.00\">gini = 0.0</text>\r\n",
       "<text text-anchor=\"start\" x=\"17\" y=\"-387.3\" font-family=\"Helvetica,sans-Serif\" font-size=\"14.00\">samples = 1</text>\r\n",
       "<text text-anchor=\"start\" x=\"8\" y=\"-372.3\" font-family=\"Helvetica,sans-Serif\" font-size=\"14.00\">value = [0, 0, 1]</text>\r\n",
       "<text text-anchor=\"start\" x=\"26\" y=\"-357.3\" font-family=\"Helvetica,sans-Serif\" font-size=\"14.00\">class = M</text>\r\n",
       "</g>\r\n",
       "<!-- 5&#45;&gt;6 -->\r\n",
       "<g id=\"edge6\" class=\"edge\"><title>5&#45;&gt;6</title>\r\n",
       "<path fill=\"none\" stroke=\"black\" d=\"M142.05,-460.907C128.83,-449.101 114.405,-436.217 101.23,-424.45\"/>\r\n",
       "<polygon fill=\"black\" stroke=\"black\" points=\"103.425,-421.718 93.6356,-417.667 98.7626,-426.939 103.425,-421.718\"/>\r\n",
       "</g>\r\n",
       "<!-- 7 -->\r\n",
       "<g id=\"node8\" class=\"node\"><title>7</title>\r\n",
       "<path fill=\"#39e581\" stroke=\"black\" d=\"M232,-417.5C232,-417.5 143,-417.5 143,-417.5 137,-417.5 131,-411.5 131,-405.5 131,-405.5 131,-361.5 131,-361.5 131,-355.5 137,-349.5 143,-349.5 143,-349.5 232,-349.5 232,-349.5 238,-349.5 244,-355.5 244,-361.5 244,-361.5 244,-405.5 244,-405.5 244,-411.5 238,-417.5 232,-417.5\"/>\r\n",
       "<text text-anchor=\"start\" x=\"158.5\" y=\"-402.3\" font-family=\"Helvetica,sans-Serif\" font-size=\"14.00\">gini = 0.0</text>\r\n",
       "<text text-anchor=\"start\" x=\"148\" y=\"-387.3\" font-family=\"Helvetica,sans-Serif\" font-size=\"14.00\">samples = 1</text>\r\n",
       "<text text-anchor=\"start\" x=\"139\" y=\"-372.3\" font-family=\"Helvetica,sans-Serif\" font-size=\"14.00\">value = [0, 1, 0]</text>\r\n",
       "<text text-anchor=\"start\" x=\"158.5\" y=\"-357.3\" font-family=\"Helvetica,sans-Serif\" font-size=\"14.00\">class = L</text>\r\n",
       "</g>\r\n",
       "<!-- 5&#45;&gt;7 -->\r\n",
       "<g id=\"edge7\" class=\"edge\"><title>5&#45;&gt;7</title>\r\n",
       "<path fill=\"none\" stroke=\"black\" d=\"M187.5,-460.907C187.5,-450.204 187.5,-438.615 187.5,-427.776\"/>\r\n",
       "<polygon fill=\"black\" stroke=\"black\" points=\"191,-427.667 187.5,-417.667 184,-427.667 191,-427.667\"/>\r\n",
       "</g>\r\n",
       "<!-- 11 -->\r\n",
       "<g id=\"node12\" class=\"node\"><title>11</title>\r\n",
       "<path fill=\"#8139e5\" fill-opacity=\"0.486275\" stroke=\"black\" d=\"M678,-782C678,-782 573,-782 573,-782 567,-782 561,-776 561,-770 561,-770 561,-711 561,-711 561,-705 567,-699 573,-699 573,-699 678,-699 678,-699 684,-699 690,-705 690,-711 690,-711 690,-770 690,-770 690,-776 684,-782 678,-782\"/>\r\n",
       "<text text-anchor=\"start\" x=\"569.5\" y=\"-766.8\" font-family=\"Helvetica,sans-Serif\" font-size=\"14.00\">sanitation ≤ 0.959</text>\r\n",
       "<text text-anchor=\"start\" x=\"588\" y=\"-751.8\" font-family=\"Helvetica,sans-Serif\" font-size=\"14.00\">gini = 0.492</text>\r\n",
       "<text text-anchor=\"start\" x=\"582\" y=\"-736.8\" font-family=\"Helvetica,sans-Serif\" font-size=\"14.00\">samples = 56</text>\r\n",
       "<text text-anchor=\"start\" x=\"569\" y=\"-721.8\" font-family=\"Helvetica,sans-Serif\" font-size=\"14.00\">value = [17, 3, 36]</text>\r\n",
       "<text text-anchor=\"start\" x=\"595\" y=\"-706.8\" font-family=\"Helvetica,sans-Serif\" font-size=\"14.00\">class = M</text>\r\n",
       "</g>\r\n",
       "<!-- 10&#45;&gt;11 -->\r\n",
       "<g id=\"edge11\" class=\"edge\"><title>10&#45;&gt;11</title>\r\n",
       "<path fill=\"none\" stroke=\"black\" d=\"M625.5,-817.907C625.5,-809.649 625.5,-800.864 625.5,-792.302\"/>\r\n",
       "<polygon fill=\"black\" stroke=\"black\" points=\"629,-792.021 625.5,-782.021 622,-792.021 629,-792.021\"/>\r\n",
       "</g>\r\n",
       "<!-- 38 -->\r\n",
       "<g id=\"node39\" class=\"node\"><title>38</title>\r\n",
       "<path fill=\"#e58139\" stroke=\"black\" d=\"M817,-774.5C817,-774.5 720,-774.5 720,-774.5 714,-774.5 708,-768.5 708,-762.5 708,-762.5 708,-718.5 708,-718.5 708,-712.5 714,-706.5 720,-706.5 720,-706.5 817,-706.5 817,-706.5 823,-706.5 829,-712.5 829,-718.5 829,-718.5 829,-762.5 829,-762.5 829,-768.5 823,-774.5 817,-774.5\"/>\r\n",
       "<text text-anchor=\"start\" x=\"739.5\" y=\"-759.3\" font-family=\"Helvetica,sans-Serif\" font-size=\"14.00\">gini = 0.0</text>\r\n",
       "<text text-anchor=\"start\" x=\"725\" y=\"-744.3\" font-family=\"Helvetica,sans-Serif\" font-size=\"14.00\">samples = 21</text>\r\n",
       "<text text-anchor=\"start\" x=\"716\" y=\"-729.3\" font-family=\"Helvetica,sans-Serif\" font-size=\"14.00\">value = [21, 0, 0]</text>\r\n",
       "<text text-anchor=\"start\" x=\"739\" y=\"-714.3\" font-family=\"Helvetica,sans-Serif\" font-size=\"14.00\">class = H</text>\r\n",
       "</g>\r\n",
       "<!-- 10&#45;&gt;38 -->\r\n",
       "<g id=\"edge38\" class=\"edge\"><title>10&#45;&gt;38</title>\r\n",
       "<path fill=\"none\" stroke=\"black\" d=\"M675.113,-817.907C689.679,-805.99 705.585,-792.976 720.076,-781.12\"/>\r\n",
       "<polygon fill=\"black\" stroke=\"black\" points=\"722.439,-783.708 727.963,-774.667 718.007,-778.29 722.439,-783.708\"/>\r\n",
       "</g>\r\n",
       "<!-- 12 -->\r\n",
       "<g id=\"node13\" class=\"node\"><title>12</title>\r\n",
       "<path fill=\"#8139e5\" fill-opacity=\"0.800000\" stroke=\"black\" d=\"M688.5,-663C688.5,-663 562.5,-663 562.5,-663 556.5,-663 550.5,-657 550.5,-651 550.5,-651 550.5,-592 550.5,-592 550.5,-586 556.5,-580 562.5,-580 562.5,-580 688.5,-580 688.5,-580 694.5,-580 700.5,-586 700.5,-592 700.5,-592 700.5,-651 700.5,-651 700.5,-657 694.5,-663 688.5,-663\"/>\r\n",
       "<text text-anchor=\"start\" x=\"558.5\" y=\"-647.8\" font-family=\"Helvetica,sans-Serif\" font-size=\"14.00\">childmortality ≤ 0.142</text>\r\n",
       "<text text-anchor=\"start\" x=\"588\" y=\"-632.8\" font-family=\"Helvetica,sans-Serif\" font-size=\"14.00\">gini = 0.314</text>\r\n",
       "<text text-anchor=\"start\" x=\"582\" y=\"-617.8\" font-family=\"Helvetica,sans-Serif\" font-size=\"14.00\">samples = 33</text>\r\n",
       "<text text-anchor=\"start\" x=\"573\" y=\"-602.8\" font-family=\"Helvetica,sans-Serif\" font-size=\"14.00\">value = [3, 3, 27]</text>\r\n",
       "<text text-anchor=\"start\" x=\"595\" y=\"-587.8\" font-family=\"Helvetica,sans-Serif\" font-size=\"14.00\">class = M</text>\r\n",
       "</g>\r\n",
       "<!-- 11&#45;&gt;12 -->\r\n",
       "<g id=\"edge12\" class=\"edge\"><title>11&#45;&gt;12</title>\r\n",
       "<path fill=\"none\" stroke=\"black\" d=\"M625.5,-698.907C625.5,-690.649 625.5,-681.864 625.5,-673.302\"/>\r\n",
       "<polygon fill=\"black\" stroke=\"black\" points=\"629,-673.021 625.5,-663.021 622,-673.021 629,-673.021\"/>\r\n",
       "</g>\r\n",
       "<!-- 27 -->\r\n",
       "<g id=\"node28\" class=\"node\"><title>27</title>\r\n",
       "<path fill=\"#e58139\" fill-opacity=\"0.356863\" stroke=\"black\" d=\"M999,-663C999,-663 902,-663 902,-663 896,-663 890,-657 890,-651 890,-651 890,-592 890,-592 890,-586 896,-580 902,-580 902,-580 999,-580 999,-580 1005,-580 1011,-586 1011,-592 1011,-592 1011,-651 1011,-651 1011,-657 1005,-663 999,-663\"/>\r\n",
       "<text text-anchor=\"start\" x=\"904\" y=\"-647.8\" font-family=\"Helvetica,sans-Serif\" font-size=\"14.00\">fertility ≤ 0.135</text>\r\n",
       "<text text-anchor=\"start\" x=\"913\" y=\"-632.8\" font-family=\"Helvetica,sans-Serif\" font-size=\"14.00\">gini = 0.476</text>\r\n",
       "<text text-anchor=\"start\" x=\"907\" y=\"-617.8\" font-family=\"Helvetica,sans-Serif\" font-size=\"14.00\">samples = 23</text>\r\n",
       "<text text-anchor=\"start\" x=\"898\" y=\"-602.8\" font-family=\"Helvetica,sans-Serif\" font-size=\"14.00\">value = [14, 0, 9]</text>\r\n",
       "<text text-anchor=\"start\" x=\"921\" y=\"-587.8\" font-family=\"Helvetica,sans-Serif\" font-size=\"14.00\">class = H</text>\r\n",
       "</g>\r\n",
       "<!-- 11&#45;&gt;27 -->\r\n",
       "<g id=\"edge27\" class=\"edge\"><title>11&#45;&gt;27</title>\r\n",
       "<path fill=\"none\" stroke=\"black\" d=\"M690.022,-702.774C692.863,-701.452 695.697,-700.187 698.5,-699 758.001,-673.8 828.608,-653.109 879.925,-639.628\"/>\r\n",
       "<polygon fill=\"black\" stroke=\"black\" points=\"881.124,-642.933 889.922,-637.029 879.363,-636.158 881.124,-642.933\"/>\r\n",
       "</g>\r\n",
       "<!-- 13 -->\r\n",
       "<g id=\"node14\" class=\"node\"><title>13</title>\r\n",
       "<path fill=\"#8139e5\" fill-opacity=\"0.956863\" stroke=\"black\" d=\"M540,-544C540,-544 443,-544 443,-544 437,-544 431,-538 431,-532 431,-532 431,-473 431,-473 431,-467 437,-461 443,-461 443,-461 540,-461 540,-461 546,-461 552,-467 552,-473 552,-473 552,-532 552,-532 552,-538 546,-544 540,-544\"/>\r\n",
       "<text text-anchor=\"start\" x=\"443\" y=\"-528.8\" font-family=\"Helvetica,sans-Serif\" font-size=\"14.00\">literacy ≤ 0.737</text>\r\n",
       "<text text-anchor=\"start\" x=\"458\" y=\"-513.8\" font-family=\"Helvetica,sans-Serif\" font-size=\"14.00\">gini = 0.08</text>\r\n",
       "<text text-anchor=\"start\" x=\"448\" y=\"-498.8\" font-family=\"Helvetica,sans-Serif\" font-size=\"14.00\">samples = 24</text>\r\n",
       "<text text-anchor=\"start\" x=\"439\" y=\"-483.8\" font-family=\"Helvetica,sans-Serif\" font-size=\"14.00\">value = [1, 0, 23]</text>\r\n",
       "<text text-anchor=\"start\" x=\"461\" y=\"-468.8\" font-family=\"Helvetica,sans-Serif\" font-size=\"14.00\">class = M</text>\r\n",
       "</g>\r\n",
       "<!-- 12&#45;&gt;13 -->\r\n",
       "<g id=\"edge13\" class=\"edge\"><title>12&#45;&gt;13</title>\r\n",
       "<path fill=\"none\" stroke=\"black\" d=\"M579.009,-579.907C568.2,-570.469 556.602,-560.343 545.5,-550.649\"/>\r\n",
       "<polygon fill=\"black\" stroke=\"black\" points=\"547.743,-547.961 537.908,-544.021 543.139,-553.234 547.743,-547.961\"/>\r\n",
       "</g>\r\n",
       "<!-- 18 -->\r\n",
       "<g id=\"node19\" class=\"node\"><title>18</title>\r\n",
       "<path fill=\"#8139e5\" fill-opacity=\"0.164706\" stroke=\"black\" d=\"M671,-544C671,-544 582,-544 582,-544 576,-544 570,-538 570,-532 570,-532 570,-473 570,-473 570,-467 576,-461 582,-461 582,-461 671,-461 671,-461 677,-461 683,-467 683,-473 683,-473 683,-532 683,-532 683,-538 677,-544 671,-544\"/>\r\n",
       "<text text-anchor=\"start\" x=\"583.5\" y=\"-528.8\" font-family=\"Helvetica,sans-Serif\" font-size=\"14.00\">water ≤ 0.817</text>\r\n",
       "<text text-anchor=\"start\" x=\"589\" y=\"-513.8\" font-family=\"Helvetica,sans-Serif\" font-size=\"14.00\">gini = 0.642</text>\r\n",
       "<text text-anchor=\"start\" x=\"587\" y=\"-498.8\" font-family=\"Helvetica,sans-Serif\" font-size=\"14.00\">samples = 9</text>\r\n",
       "<text text-anchor=\"start\" x=\"578\" y=\"-483.8\" font-family=\"Helvetica,sans-Serif\" font-size=\"14.00\">value = [2, 3, 4]</text>\r\n",
       "<text text-anchor=\"start\" x=\"596\" y=\"-468.8\" font-family=\"Helvetica,sans-Serif\" font-size=\"14.00\">class = M</text>\r\n",
       "</g>\r\n",
       "<!-- 12&#45;&gt;18 -->\r\n",
       "<g id=\"edge18\" class=\"edge\"><title>12&#45;&gt;18</title>\r\n",
       "<path fill=\"none\" stroke=\"black\" d=\"M625.847,-579.907C625.918,-571.649 625.993,-562.864 626.066,-554.302\"/>\r\n",
       "<polygon fill=\"black\" stroke=\"black\" points=\"629.568,-554.05 626.154,-544.021 622.568,-553.99 629.568,-554.05\"/>\r\n",
       "</g>\r\n",
       "<!-- 14 -->\r\n",
       "<g id=\"node15\" class=\"node\"><title>14</title>\r\n",
       "<path fill=\"none\" stroke=\"black\" d=\"M400.5,-425C400.5,-425 274.5,-425 274.5,-425 268.5,-425 262.5,-419 262.5,-413 262.5,-413 262.5,-354 262.5,-354 262.5,-348 268.5,-342 274.5,-342 274.5,-342 400.5,-342 400.5,-342 406.5,-342 412.5,-348 412.5,-354 412.5,-354 412.5,-413 412.5,-413 412.5,-419 406.5,-425 400.5,-425\"/>\r\n",
       "<text text-anchor=\"start\" x=\"270.5\" y=\"-409.8\" font-family=\"Helvetica,sans-Serif\" font-size=\"14.00\">childmortality ≤ 0.093</text>\r\n",
       "<text text-anchor=\"start\" x=\"308.5\" y=\"-394.8\" font-family=\"Helvetica,sans-Serif\" font-size=\"14.00\">gini = 0.5</text>\r\n",
       "<text text-anchor=\"start\" x=\"298\" y=\"-379.8\" font-family=\"Helvetica,sans-Serif\" font-size=\"14.00\">samples = 2</text>\r\n",
       "<text text-anchor=\"start\" x=\"289\" y=\"-364.8\" font-family=\"Helvetica,sans-Serif\" font-size=\"14.00\">value = [1, 0, 1]</text>\r\n",
       "<text text-anchor=\"start\" x=\"308\" y=\"-349.8\" font-family=\"Helvetica,sans-Serif\" font-size=\"14.00\">class = H</text>\r\n",
       "</g>\r\n",
       "<!-- 13&#45;&gt;14 -->\r\n",
       "<g id=\"edge14\" class=\"edge\"><title>13&#45;&gt;14</title>\r\n",
       "<path fill=\"none\" stroke=\"black\" d=\"M438.07,-460.907C425.409,-451.288 411.806,-440.953 398.824,-431.09\"/>\r\n",
       "<polygon fill=\"black\" stroke=\"black\" points=\"400.915,-428.283 390.835,-425.021 396.68,-433.857 400.915,-428.283\"/>\r\n",
       "</g>\r\n",
       "<!-- 17 -->\r\n",
       "<g id=\"node18\" class=\"node\"><title>17</title>\r\n",
       "<path fill=\"#8139e5\" stroke=\"black\" d=\"M540,-417.5C540,-417.5 443,-417.5 443,-417.5 437,-417.5 431,-411.5 431,-405.5 431,-405.5 431,-361.5 431,-361.5 431,-355.5 437,-349.5 443,-349.5 443,-349.5 540,-349.5 540,-349.5 546,-349.5 552,-355.5 552,-361.5 552,-361.5 552,-405.5 552,-405.5 552,-411.5 546,-417.5 540,-417.5\"/>\r\n",
       "<text text-anchor=\"start\" x=\"462.5\" y=\"-402.3\" font-family=\"Helvetica,sans-Serif\" font-size=\"14.00\">gini = 0.0</text>\r\n",
       "<text text-anchor=\"start\" x=\"448\" y=\"-387.3\" font-family=\"Helvetica,sans-Serif\" font-size=\"14.00\">samples = 22</text>\r\n",
       "<text text-anchor=\"start\" x=\"439\" y=\"-372.3\" font-family=\"Helvetica,sans-Serif\" font-size=\"14.00\">value = [0, 0, 22]</text>\r\n",
       "<text text-anchor=\"start\" x=\"461\" y=\"-357.3\" font-family=\"Helvetica,sans-Serif\" font-size=\"14.00\">class = M</text>\r\n",
       "</g>\r\n",
       "<!-- 13&#45;&gt;17 -->\r\n",
       "<g id=\"edge17\" class=\"edge\"><title>13&#45;&gt;17</title>\r\n",
       "<path fill=\"none\" stroke=\"black\" d=\"M491.5,-460.907C491.5,-450.204 491.5,-438.615 491.5,-427.776\"/>\r\n",
       "<polygon fill=\"black\" stroke=\"black\" points=\"495,-427.667 491.5,-417.667 488,-427.667 495,-427.667\"/>\r\n",
       "</g>\r\n",
       "<!-- 15 -->\r\n",
       "<g id=\"node16\" class=\"node\"><title>15</title>\r\n",
       "<path fill=\"#e58139\" stroke=\"black\" d=\"M316,-298.5C316,-298.5 227,-298.5 227,-298.5 221,-298.5 215,-292.5 215,-286.5 215,-286.5 215,-242.5 215,-242.5 215,-236.5 221,-230.5 227,-230.5 227,-230.5 316,-230.5 316,-230.5 322,-230.5 328,-236.5 328,-242.5 328,-242.5 328,-286.5 328,-286.5 328,-292.5 322,-298.5 316,-298.5\"/>\r\n",
       "<text text-anchor=\"start\" x=\"242.5\" y=\"-283.3\" font-family=\"Helvetica,sans-Serif\" font-size=\"14.00\">gini = 0.0</text>\r\n",
       "<text text-anchor=\"start\" x=\"232\" y=\"-268.3\" font-family=\"Helvetica,sans-Serif\" font-size=\"14.00\">samples = 1</text>\r\n",
       "<text text-anchor=\"start\" x=\"223\" y=\"-253.3\" font-family=\"Helvetica,sans-Serif\" font-size=\"14.00\">value = [1, 0, 0]</text>\r\n",
       "<text text-anchor=\"start\" x=\"242\" y=\"-238.3\" font-family=\"Helvetica,sans-Serif\" font-size=\"14.00\">class = H</text>\r\n",
       "</g>\r\n",
       "<!-- 14&#45;&gt;15 -->\r\n",
       "<g id=\"edge15\" class=\"edge\"><title>14&#45;&gt;15</title>\r\n",
       "<path fill=\"none\" stroke=\"black\" d=\"M314.602,-341.907C308.315,-330.763 301.487,-318.658 295.158,-307.439\"/>\r\n",
       "<polygon fill=\"black\" stroke=\"black\" points=\"298.171,-305.657 290.21,-298.667 292.074,-309.096 298.171,-305.657\"/>\r\n",
       "</g>\r\n",
       "<!-- 16 -->\r\n",
       "<g id=\"node17\" class=\"node\"><title>16</title>\r\n",
       "<path fill=\"#8139e5\" stroke=\"black\" d=\"M447,-298.5C447,-298.5 358,-298.5 358,-298.5 352,-298.5 346,-292.5 346,-286.5 346,-286.5 346,-242.5 346,-242.5 346,-236.5 352,-230.5 358,-230.5 358,-230.5 447,-230.5 447,-230.5 453,-230.5 459,-236.5 459,-242.5 459,-242.5 459,-286.5 459,-286.5 459,-292.5 453,-298.5 447,-298.5\"/>\r\n",
       "<text text-anchor=\"start\" x=\"373.5\" y=\"-283.3\" font-family=\"Helvetica,sans-Serif\" font-size=\"14.00\">gini = 0.0</text>\r\n",
       "<text text-anchor=\"start\" x=\"363\" y=\"-268.3\" font-family=\"Helvetica,sans-Serif\" font-size=\"14.00\">samples = 1</text>\r\n",
       "<text text-anchor=\"start\" x=\"354\" y=\"-253.3\" font-family=\"Helvetica,sans-Serif\" font-size=\"14.00\">value = [0, 0, 1]</text>\r\n",
       "<text text-anchor=\"start\" x=\"372\" y=\"-238.3\" font-family=\"Helvetica,sans-Serif\" font-size=\"14.00\">class = M</text>\r\n",
       "</g>\r\n",
       "<!-- 14&#45;&gt;16 -->\r\n",
       "<g id=\"edge16\" class=\"edge\"><title>14&#45;&gt;16</title>\r\n",
       "<path fill=\"none\" stroke=\"black\" d=\"M360.051,-341.907C366.243,-330.763 372.968,-318.658 379.2,-307.439\"/>\r\n",
       "<polygon fill=\"black\" stroke=\"black\" points=\"382.277,-309.108 384.074,-298.667 376.158,-305.709 382.277,-309.108\"/>\r\n",
       "</g>\r\n",
       "<!-- 19 -->\r\n",
       "<g id=\"node20\" class=\"node\"><title>19</title>\r\n",
       "<path fill=\"#8139e5\" stroke=\"black\" d=\"M671,-417.5C671,-417.5 582,-417.5 582,-417.5 576,-417.5 570,-411.5 570,-405.5 570,-405.5 570,-361.5 570,-361.5 570,-355.5 576,-349.5 582,-349.5 582,-349.5 671,-349.5 671,-349.5 677,-349.5 683,-355.5 683,-361.5 683,-361.5 683,-405.5 683,-405.5 683,-411.5 677,-417.5 671,-417.5\"/>\r\n",
       "<text text-anchor=\"start\" x=\"597.5\" y=\"-402.3\" font-family=\"Helvetica,sans-Serif\" font-size=\"14.00\">gini = 0.0</text>\r\n",
       "<text text-anchor=\"start\" x=\"587\" y=\"-387.3\" font-family=\"Helvetica,sans-Serif\" font-size=\"14.00\">samples = 3</text>\r\n",
       "<text text-anchor=\"start\" x=\"578\" y=\"-372.3\" font-family=\"Helvetica,sans-Serif\" font-size=\"14.00\">value = [0, 0, 3]</text>\r\n",
       "<text text-anchor=\"start\" x=\"596\" y=\"-357.3\" font-family=\"Helvetica,sans-Serif\" font-size=\"14.00\">class = M</text>\r\n",
       "</g>\r\n",
       "<!-- 18&#45;&gt;19 -->\r\n",
       "<g id=\"edge19\" class=\"edge\"><title>18&#45;&gt;19</title>\r\n",
       "<path fill=\"none\" stroke=\"black\" d=\"M626.5,-460.907C626.5,-450.204 626.5,-438.615 626.5,-427.776\"/>\r\n",
       "<polygon fill=\"black\" stroke=\"black\" points=\"630,-427.667 626.5,-417.667 623,-427.667 630,-427.667\"/>\r\n",
       "</g>\r\n",
       "<!-- 20 -->\r\n",
       "<g id=\"node21\" class=\"node\"><title>20</title>\r\n",
       "<path fill=\"#39e581\" fill-opacity=\"0.250980\" stroke=\"black\" d=\"M802,-425C802,-425 713,-425 713,-425 707,-425 701,-419 701,-413 701,-413 701,-354 701,-354 701,-348 707,-342 713,-342 713,-342 802,-342 802,-342 808,-342 814,-348 814,-354 814,-354 814,-413 814,-413 814,-419 808,-425 802,-425\"/>\r\n",
       "<text text-anchor=\"start\" x=\"714.5\" y=\"-409.8\" font-family=\"Helvetica,sans-Serif\" font-size=\"14.00\">water ≤ 0.965</text>\r\n",
       "<text text-anchor=\"start\" x=\"720\" y=\"-394.8\" font-family=\"Helvetica,sans-Serif\" font-size=\"14.00\">gini = 0.611</text>\r\n",
       "<text text-anchor=\"start\" x=\"718\" y=\"-379.8\" font-family=\"Helvetica,sans-Serif\" font-size=\"14.00\">samples = 6</text>\r\n",
       "<text text-anchor=\"start\" x=\"709\" y=\"-364.8\" font-family=\"Helvetica,sans-Serif\" font-size=\"14.00\">value = [2, 3, 1]</text>\r\n",
       "<text text-anchor=\"start\" x=\"728.5\" y=\"-349.8\" font-family=\"Helvetica,sans-Serif\" font-size=\"14.00\">class = L</text>\r\n",
       "</g>\r\n",
       "<!-- 18&#45;&gt;20 -->\r\n",
       "<g id=\"edge20\" class=\"edge\"><title>18&#45;&gt;20</title>\r\n",
       "<path fill=\"none\" stroke=\"black\" d=\"M671.95,-460.907C682.416,-451.56 693.637,-441.538 704.396,-431.929\"/>\r\n",
       "<polygon fill=\"black\" stroke=\"black\" points=\"707.004,-434.293 712.131,-425.021 702.341,-429.072 707.004,-434.293\"/>\r\n",
       "</g>\r\n",
       "<!-- 21 -->\r\n",
       "<g id=\"node22\" class=\"node\"><title>21</title>\r\n",
       "<path fill=\"#39e581\" fill-opacity=\"0.333333\" stroke=\"black\" d=\"M671,-306C671,-306 582,-306 582,-306 576,-306 570,-300 570,-294 570,-294 570,-235 570,-235 570,-229 576,-223 582,-223 582,-223 671,-223 671,-223 677,-223 683,-229 683,-235 683,-235 683,-294 683,-294 683,-300 677,-306 671,-306\"/>\r\n",
       "<text text-anchor=\"start\" x=\"591.5\" y=\"-290.8\" font-family=\"Helvetica,sans-Serif\" font-size=\"14.00\">hiv ≤ 0.004</text>\r\n",
       "<text text-anchor=\"start\" x=\"593\" y=\"-275.8\" font-family=\"Helvetica,sans-Serif\" font-size=\"14.00\">gini = 0.48</text>\r\n",
       "<text text-anchor=\"start\" x=\"587\" y=\"-260.8\" font-family=\"Helvetica,sans-Serif\" font-size=\"14.00\">samples = 5</text>\r\n",
       "<text text-anchor=\"start\" x=\"578\" y=\"-245.8\" font-family=\"Helvetica,sans-Serif\" font-size=\"14.00\">value = [2, 3, 0]</text>\r\n",
       "<text text-anchor=\"start\" x=\"597.5\" y=\"-230.8\" font-family=\"Helvetica,sans-Serif\" font-size=\"14.00\">class = L</text>\r\n",
       "</g>\r\n",
       "<!-- 20&#45;&gt;21 -->\r\n",
       "<g id=\"edge21\" class=\"edge\"><title>20&#45;&gt;21</title>\r\n",
       "<path fill=\"none\" stroke=\"black\" d=\"M712.05,-341.907C701.584,-332.56 690.363,-322.538 679.604,-312.929\"/>\r\n",
       "<polygon fill=\"black\" stroke=\"black\" points=\"681.659,-310.072 671.869,-306.021 676.996,-315.293 681.659,-310.072\"/>\r\n",
       "</g>\r\n",
       "<!-- 26 -->\r\n",
       "<g id=\"node27\" class=\"node\"><title>26</title>\r\n",
       "<path fill=\"#8139e5\" stroke=\"black\" d=\"M802,-298.5C802,-298.5 713,-298.5 713,-298.5 707,-298.5 701,-292.5 701,-286.5 701,-286.5 701,-242.5 701,-242.5 701,-236.5 707,-230.5 713,-230.5 713,-230.5 802,-230.5 802,-230.5 808,-230.5 814,-236.5 814,-242.5 814,-242.5 814,-286.5 814,-286.5 814,-292.5 808,-298.5 802,-298.5\"/>\r\n",
       "<text text-anchor=\"start\" x=\"728.5\" y=\"-283.3\" font-family=\"Helvetica,sans-Serif\" font-size=\"14.00\">gini = 0.0</text>\r\n",
       "<text text-anchor=\"start\" x=\"718\" y=\"-268.3\" font-family=\"Helvetica,sans-Serif\" font-size=\"14.00\">samples = 1</text>\r\n",
       "<text text-anchor=\"start\" x=\"709\" y=\"-253.3\" font-family=\"Helvetica,sans-Serif\" font-size=\"14.00\">value = [0, 0, 1]</text>\r\n",
       "<text text-anchor=\"start\" x=\"727\" y=\"-238.3\" font-family=\"Helvetica,sans-Serif\" font-size=\"14.00\">class = M</text>\r\n",
       "</g>\r\n",
       "<!-- 20&#45;&gt;26 -->\r\n",
       "<g id=\"edge26\" class=\"edge\"><title>20&#45;&gt;26</title>\r\n",
       "<path fill=\"none\" stroke=\"black\" d=\"M757.5,-341.907C757.5,-331.204 757.5,-319.615 757.5,-308.776\"/>\r\n",
       "<polygon fill=\"black\" stroke=\"black\" points=\"761,-308.667 757.5,-298.667 754,-308.667 761,-308.667\"/>\r\n",
       "</g>\r\n",
       "<!-- 22 -->\r\n",
       "<g id=\"node23\" class=\"node\"><title>22</title>\r\n",
       "<path fill=\"#39e581\" stroke=\"black\" d=\"M605,-179.5C605,-179.5 516,-179.5 516,-179.5 510,-179.5 504,-173.5 504,-167.5 504,-167.5 504,-123.5 504,-123.5 504,-117.5 510,-111.5 516,-111.5 516,-111.5 605,-111.5 605,-111.5 611,-111.5 617,-117.5 617,-123.5 617,-123.5 617,-167.5 617,-167.5 617,-173.5 611,-179.5 605,-179.5\"/>\r\n",
       "<text text-anchor=\"start\" x=\"531.5\" y=\"-164.3\" font-family=\"Helvetica,sans-Serif\" font-size=\"14.00\">gini = 0.0</text>\r\n",
       "<text text-anchor=\"start\" x=\"521\" y=\"-149.3\" font-family=\"Helvetica,sans-Serif\" font-size=\"14.00\">samples = 2</text>\r\n",
       "<text text-anchor=\"start\" x=\"512\" y=\"-134.3\" font-family=\"Helvetica,sans-Serif\" font-size=\"14.00\">value = [0, 2, 0]</text>\r\n",
       "<text text-anchor=\"start\" x=\"531.5\" y=\"-119.3\" font-family=\"Helvetica,sans-Serif\" font-size=\"14.00\">class = L</text>\r\n",
       "</g>\r\n",
       "<!-- 21&#45;&gt;22 -->\r\n",
       "<g id=\"edge22\" class=\"edge\"><title>21&#45;&gt;22</title>\r\n",
       "<path fill=\"none\" stroke=\"black\" d=\"M603.602,-222.907C597.315,-211.763 590.487,-199.658 584.158,-188.439\"/>\r\n",
       "<polygon fill=\"black\" stroke=\"black\" points=\"587.171,-186.657 579.21,-179.667 581.074,-190.096 587.171,-186.657\"/>\r\n",
       "</g>\r\n",
       "<!-- 23 -->\r\n",
       "<g id=\"node24\" class=\"node\"><title>23</title>\r\n",
       "<path fill=\"#e58139\" fill-opacity=\"0.498039\" stroke=\"black\" d=\"M736,-187C736,-187 647,-187 647,-187 641,-187 635,-181 635,-175 635,-175 635,-116 635,-116 635,-110 641,-104 647,-104 647,-104 736,-104 736,-104 742,-104 748,-110 748,-116 748,-116 748,-175 748,-175 748,-181 742,-187 736,-187\"/>\r\n",
       "<text text-anchor=\"start\" x=\"643.5\" y=\"-171.8\" font-family=\"Helvetica,sans-Serif\" font-size=\"14.00\">energy ≤ 0.073</text>\r\n",
       "<text text-anchor=\"start\" x=\"654\" y=\"-156.8\" font-family=\"Helvetica,sans-Serif\" font-size=\"14.00\">gini = 0.444</text>\r\n",
       "<text text-anchor=\"start\" x=\"652\" y=\"-141.8\" font-family=\"Helvetica,sans-Serif\" font-size=\"14.00\">samples = 3</text>\r\n",
       "<text text-anchor=\"start\" x=\"643\" y=\"-126.8\" font-family=\"Helvetica,sans-Serif\" font-size=\"14.00\">value = [2, 1, 0]</text>\r\n",
       "<text text-anchor=\"start\" x=\"662\" y=\"-111.8\" font-family=\"Helvetica,sans-Serif\" font-size=\"14.00\">class = H</text>\r\n",
       "</g>\r\n",
       "<!-- 21&#45;&gt;23 -->\r\n",
       "<g id=\"edge23\" class=\"edge\"><title>21&#45;&gt;23</title>\r\n",
       "<path fill=\"none\" stroke=\"black\" d=\"M649.051,-222.907C653.891,-214.195 659.057,-204.897 664.059,-195.893\"/>\r\n",
       "<polygon fill=\"black\" stroke=\"black\" points=\"667.192,-197.462 668.988,-187.021 661.072,-194.063 667.192,-197.462\"/>\r\n",
       "</g>\r\n",
       "<!-- 24 -->\r\n",
       "<g id=\"node25\" class=\"node\"><title>24</title>\r\n",
       "<path fill=\"#e58139\" stroke=\"black\" d=\"M670,-68C670,-68 581,-68 581,-68 575,-68 569,-62 569,-56 569,-56 569,-12 569,-12 569,-6 575,-0 581,-0 581,-0 670,-0 670,-0 676,-0 682,-6 682,-12 682,-12 682,-56 682,-56 682,-62 676,-68 670,-68\"/>\r\n",
       "<text text-anchor=\"start\" x=\"596.5\" y=\"-52.8\" font-family=\"Helvetica,sans-Serif\" font-size=\"14.00\">gini = 0.0</text>\r\n",
       "<text text-anchor=\"start\" x=\"586\" y=\"-37.8\" font-family=\"Helvetica,sans-Serif\" font-size=\"14.00\">samples = 2</text>\r\n",
       "<text text-anchor=\"start\" x=\"577\" y=\"-22.8\" font-family=\"Helvetica,sans-Serif\" font-size=\"14.00\">value = [2, 0, 0]</text>\r\n",
       "<text text-anchor=\"start\" x=\"596\" y=\"-7.8\" font-family=\"Helvetica,sans-Serif\" font-size=\"14.00\">class = H</text>\r\n",
       "</g>\r\n",
       "<!-- 23&#45;&gt;24 -->\r\n",
       "<g id=\"edge24\" class=\"edge\"><title>23&#45;&gt;24</title>\r\n",
       "<path fill=\"none\" stroke=\"black\" d=\"M666.924,-103.726C661.646,-94.9703 656.061,-85.7032 650.758,-76.9051\"/>\r\n",
       "<polygon fill=\"black\" stroke=\"black\" points=\"653.731,-75.0574 645.571,-68.2996 647.736,-78.671 653.731,-75.0574\"/>\r\n",
       "</g>\r\n",
       "<!-- 25 -->\r\n",
       "<g id=\"node26\" class=\"node\"><title>25</title>\r\n",
       "<path fill=\"#39e581\" stroke=\"black\" d=\"M801,-68C801,-68 712,-68 712,-68 706,-68 700,-62 700,-56 700,-56 700,-12 700,-12 700,-6 706,-0 712,-0 712,-0 801,-0 801,-0 807,-0 813,-6 813,-12 813,-12 813,-56 813,-56 813,-62 807,-68 801,-68\"/>\r\n",
       "<text text-anchor=\"start\" x=\"727.5\" y=\"-52.8\" font-family=\"Helvetica,sans-Serif\" font-size=\"14.00\">gini = 0.0</text>\r\n",
       "<text text-anchor=\"start\" x=\"717\" y=\"-37.8\" font-family=\"Helvetica,sans-Serif\" font-size=\"14.00\">samples = 1</text>\r\n",
       "<text text-anchor=\"start\" x=\"708\" y=\"-22.8\" font-family=\"Helvetica,sans-Serif\" font-size=\"14.00\">value = [0, 1, 0]</text>\r\n",
       "<text text-anchor=\"start\" x=\"727.5\" y=\"-7.8\" font-family=\"Helvetica,sans-Serif\" font-size=\"14.00\">class = L</text>\r\n",
       "</g>\r\n",
       "<!-- 23&#45;&gt;25 -->\r\n",
       "<g id=\"edge25\" class=\"edge\"><title>23&#45;&gt;25</title>\r\n",
       "<path fill=\"none\" stroke=\"black\" d=\"M715.704,-103.726C720.901,-94.9703 726.402,-85.7032 731.625,-76.9051\"/>\r\n",
       "<polygon fill=\"black\" stroke=\"black\" points=\"734.638,-78.6853 736.733,-68.2996 728.619,-75.1121 734.638,-78.6853\"/>\r\n",
       "</g>\r\n",
       "<!-- 28 -->\r\n",
       "<g id=\"node29\" class=\"node\"><title>28</title>\r\n",
       "<path fill=\"#e58139\" fill-opacity=\"0.909804\" stroke=\"black\" d=\"M1002,-544C1002,-544 899,-544 899,-544 893,-544 887,-538 887,-532 887,-532 887,-473 887,-473 887,-467 893,-461 899,-461 899,-461 1002,-461 1002,-461 1008,-461 1014,-467 1014,-473 1014,-473 1014,-532 1014,-532 1014,-538 1008,-544 1002,-544\"/>\r\n",
       "<text text-anchor=\"start\" x=\"895\" y=\"-528.8\" font-family=\"Helvetica,sans-Serif\" font-size=\"14.00\">inequality ≤ 0.316</text>\r\n",
       "<text text-anchor=\"start\" x=\"913\" y=\"-513.8\" font-family=\"Helvetica,sans-Serif\" font-size=\"14.00\">gini = 0.153</text>\r\n",
       "<text text-anchor=\"start\" x=\"907\" y=\"-498.8\" font-family=\"Helvetica,sans-Serif\" font-size=\"14.00\">samples = 12</text>\r\n",
       "<text text-anchor=\"start\" x=\"898\" y=\"-483.8\" font-family=\"Helvetica,sans-Serif\" font-size=\"14.00\">value = [11, 0, 1]</text>\r\n",
       "<text text-anchor=\"start\" x=\"921\" y=\"-468.8\" font-family=\"Helvetica,sans-Serif\" font-size=\"14.00\">class = H</text>\r\n",
       "</g>\r\n",
       "<!-- 27&#45;&gt;28 -->\r\n",
       "<g id=\"edge28\" class=\"edge\"><title>27&#45;&gt;28</title>\r\n",
       "<path fill=\"none\" stroke=\"black\" d=\"M950.5,-579.907C950.5,-571.649 950.5,-562.864 950.5,-554.302\"/>\r\n",
       "<polygon fill=\"black\" stroke=\"black\" points=\"954,-554.021 950.5,-544.021 947,-554.021 954,-554.021\"/>\r\n",
       "</g>\r\n",
       "<!-- 33 -->\r\n",
       "<g id=\"node34\" class=\"node\"><title>33</title>\r\n",
       "<path fill=\"#8139e5\" fill-opacity=\"0.623529\" stroke=\"black\" d=\"M1195,-544C1195,-544 1106,-544 1106,-544 1100,-544 1094,-538 1094,-532 1094,-532 1094,-473 1094,-473 1094,-467 1100,-461 1106,-461 1106,-461 1195,-461 1195,-461 1201,-461 1207,-467 1207,-473 1207,-473 1207,-532 1207,-532 1207,-538 1201,-544 1195,-544\"/>\r\n",
       "<text text-anchor=\"start\" x=\"1107.5\" y=\"-528.8\" font-family=\"Helvetica,sans-Serif\" font-size=\"14.00\">water ≤ 0.969</text>\r\n",
       "<text text-anchor=\"start\" x=\"1113\" y=\"-513.8\" font-family=\"Helvetica,sans-Serif\" font-size=\"14.00\">gini = 0.397</text>\r\n",
       "<text text-anchor=\"start\" x=\"1107\" y=\"-498.8\" font-family=\"Helvetica,sans-Serif\" font-size=\"14.00\">samples = 11</text>\r\n",
       "<text text-anchor=\"start\" x=\"1102\" y=\"-483.8\" font-family=\"Helvetica,sans-Serif\" font-size=\"14.00\">value = [3, 0, 8]</text>\r\n",
       "<text text-anchor=\"start\" x=\"1120\" y=\"-468.8\" font-family=\"Helvetica,sans-Serif\" font-size=\"14.00\">class = M</text>\r\n",
       "</g>\r\n",
       "<!-- 27&#45;&gt;33 -->\r\n",
       "<g id=\"edge33\" class=\"edge\"><title>27&#45;&gt;33</title>\r\n",
       "<path fill=\"none\" stroke=\"black\" d=\"M1011.05,-585.079C1034.5,-571.361 1061.39,-555.627 1085.27,-541.66\"/>\r\n",
       "<polygon fill=\"black\" stroke=\"black\" points=\"1087.05,-544.672 1093.92,-536.602 1083.52,-538.63 1087.05,-544.672\"/>\r\n",
       "</g>\r\n",
       "<!-- 29 -->\r\n",
       "<g id=\"node30\" class=\"node\"><title>29</title>\r\n",
       "<path fill=\"#e58139\" fill-opacity=\"0.498039\" stroke=\"black\" d=\"M933,-425C933,-425 844,-425 844,-425 838,-425 832,-419 832,-413 832,-413 832,-354 832,-354 832,-348 838,-342 844,-342 844,-342 933,-342 933,-342 939,-342 945,-348 945,-354 945,-354 945,-413 945,-413 945,-419 939,-425 933,-425\"/>\r\n",
       "<text text-anchor=\"start\" x=\"845.5\" y=\"-409.8\" font-family=\"Helvetica,sans-Serif\" font-size=\"14.00\">water ≤ 0.997</text>\r\n",
       "<text text-anchor=\"start\" x=\"851\" y=\"-394.8\" font-family=\"Helvetica,sans-Serif\" font-size=\"14.00\">gini = 0.444</text>\r\n",
       "<text text-anchor=\"start\" x=\"849\" y=\"-379.8\" font-family=\"Helvetica,sans-Serif\" font-size=\"14.00\">samples = 3</text>\r\n",
       "<text text-anchor=\"start\" x=\"840\" y=\"-364.8\" font-family=\"Helvetica,sans-Serif\" font-size=\"14.00\">value = [2, 0, 1]</text>\r\n",
       "<text text-anchor=\"start\" x=\"859\" y=\"-349.8\" font-family=\"Helvetica,sans-Serif\" font-size=\"14.00\">class = H</text>\r\n",
       "</g>\r\n",
       "<!-- 28&#45;&gt;29 -->\r\n",
       "<g id=\"edge29\" class=\"edge\"><title>28&#45;&gt;29</title>\r\n",
       "<path fill=\"none\" stroke=\"black\" d=\"M928.989,-460.907C924.373,-452.195 919.445,-442.897 914.674,-433.893\"/>\r\n",
       "<polygon fill=\"black\" stroke=\"black\" points=\"917.748,-432.218 909.973,-425.021 911.562,-435.496 917.748,-432.218\"/>\r\n",
       "</g>\r\n",
       "<!-- 32 -->\r\n",
       "<g id=\"node33\" class=\"node\"><title>32</title>\r\n",
       "<path fill=\"#e58139\" stroke=\"black\" d=\"M1064,-417.5C1064,-417.5 975,-417.5 975,-417.5 969,-417.5 963,-411.5 963,-405.5 963,-405.5 963,-361.5 963,-361.5 963,-355.5 969,-349.5 975,-349.5 975,-349.5 1064,-349.5 1064,-349.5 1070,-349.5 1076,-355.5 1076,-361.5 1076,-361.5 1076,-405.5 1076,-405.5 1076,-411.5 1070,-417.5 1064,-417.5\"/>\r\n",
       "<text text-anchor=\"start\" x=\"990.5\" y=\"-402.3\" font-family=\"Helvetica,sans-Serif\" font-size=\"14.00\">gini = 0.0</text>\r\n",
       "<text text-anchor=\"start\" x=\"980\" y=\"-387.3\" font-family=\"Helvetica,sans-Serif\" font-size=\"14.00\">samples = 9</text>\r\n",
       "<text text-anchor=\"start\" x=\"971\" y=\"-372.3\" font-family=\"Helvetica,sans-Serif\" font-size=\"14.00\">value = [9, 0, 0]</text>\r\n",
       "<text text-anchor=\"start\" x=\"990\" y=\"-357.3\" font-family=\"Helvetica,sans-Serif\" font-size=\"14.00\">class = H</text>\r\n",
       "</g>\r\n",
       "<!-- 28&#45;&gt;32 -->\r\n",
       "<g id=\"edge32\" class=\"edge\"><title>28&#45;&gt;32</title>\r\n",
       "<path fill=\"none\" stroke=\"black\" d=\"M974.439,-460.907C981.012,-449.763 988.15,-437.658 994.767,-426.439\"/>\r\n",
       "<polygon fill=\"black\" stroke=\"black\" points=\"997.875,-428.059 999.94,-417.667 991.845,-424.503 997.875,-428.059\"/>\r\n",
       "</g>\r\n",
       "<!-- 30 -->\r\n",
       "<g id=\"node31\" class=\"node\"><title>30</title>\r\n",
       "<path fill=\"#e58139\" stroke=\"black\" d=\"M933,-298.5C933,-298.5 844,-298.5 844,-298.5 838,-298.5 832,-292.5 832,-286.5 832,-286.5 832,-242.5 832,-242.5 832,-236.5 838,-230.5 844,-230.5 844,-230.5 933,-230.5 933,-230.5 939,-230.5 945,-236.5 945,-242.5 945,-242.5 945,-286.5 945,-286.5 945,-292.5 939,-298.5 933,-298.5\"/>\r\n",
       "<text text-anchor=\"start\" x=\"859.5\" y=\"-283.3\" font-family=\"Helvetica,sans-Serif\" font-size=\"14.00\">gini = 0.0</text>\r\n",
       "<text text-anchor=\"start\" x=\"849\" y=\"-268.3\" font-family=\"Helvetica,sans-Serif\" font-size=\"14.00\">samples = 2</text>\r\n",
       "<text text-anchor=\"start\" x=\"840\" y=\"-253.3\" font-family=\"Helvetica,sans-Serif\" font-size=\"14.00\">value = [2, 0, 0]</text>\r\n",
       "<text text-anchor=\"start\" x=\"859\" y=\"-238.3\" font-family=\"Helvetica,sans-Serif\" font-size=\"14.00\">class = H</text>\r\n",
       "</g>\r\n",
       "<!-- 29&#45;&gt;30 -->\r\n",
       "<g id=\"edge30\" class=\"edge\"><title>29&#45;&gt;30</title>\r\n",
       "<path fill=\"none\" stroke=\"black\" d=\"M888.5,-341.907C888.5,-331.204 888.5,-319.615 888.5,-308.776\"/>\r\n",
       "<polygon fill=\"black\" stroke=\"black\" points=\"892,-308.667 888.5,-298.667 885,-308.667 892,-308.667\"/>\r\n",
       "</g>\r\n",
       "<!-- 31 -->\r\n",
       "<g id=\"node32\" class=\"node\"><title>31</title>\r\n",
       "<path fill=\"#8139e5\" stroke=\"black\" d=\"M1064,-298.5C1064,-298.5 975,-298.5 975,-298.5 969,-298.5 963,-292.5 963,-286.5 963,-286.5 963,-242.5 963,-242.5 963,-236.5 969,-230.5 975,-230.5 975,-230.5 1064,-230.5 1064,-230.5 1070,-230.5 1076,-236.5 1076,-242.5 1076,-242.5 1076,-286.5 1076,-286.5 1076,-292.5 1070,-298.5 1064,-298.5\"/>\r\n",
       "<text text-anchor=\"start\" x=\"990.5\" y=\"-283.3\" font-family=\"Helvetica,sans-Serif\" font-size=\"14.00\">gini = 0.0</text>\r\n",
       "<text text-anchor=\"start\" x=\"980\" y=\"-268.3\" font-family=\"Helvetica,sans-Serif\" font-size=\"14.00\">samples = 1</text>\r\n",
       "<text text-anchor=\"start\" x=\"971\" y=\"-253.3\" font-family=\"Helvetica,sans-Serif\" font-size=\"14.00\">value = [0, 0, 1]</text>\r\n",
       "<text text-anchor=\"start\" x=\"989\" y=\"-238.3\" font-family=\"Helvetica,sans-Serif\" font-size=\"14.00\">class = M</text>\r\n",
       "</g>\r\n",
       "<!-- 29&#45;&gt;31 -->\r\n",
       "<g id=\"edge31\" class=\"edge\"><title>29&#45;&gt;31</title>\r\n",
       "<path fill=\"none\" stroke=\"black\" d=\"M933.95,-341.907C947.17,-330.101 961.595,-317.217 974.77,-305.45\"/>\r\n",
       "<polygon fill=\"black\" stroke=\"black\" points=\"977.237,-307.939 982.364,-298.667 972.575,-302.718 977.237,-307.939\"/>\r\n",
       "</g>\r\n",
       "<!-- 34 -->\r\n",
       "<g id=\"node35\" class=\"node\"><title>34</title>\r\n",
       "<path fill=\"#8139e5\" stroke=\"black\" d=\"M1195,-417.5C1195,-417.5 1106,-417.5 1106,-417.5 1100,-417.5 1094,-411.5 1094,-405.5 1094,-405.5 1094,-361.5 1094,-361.5 1094,-355.5 1100,-349.5 1106,-349.5 1106,-349.5 1195,-349.5 1195,-349.5 1201,-349.5 1207,-355.5 1207,-361.5 1207,-361.5 1207,-405.5 1207,-405.5 1207,-411.5 1201,-417.5 1195,-417.5\"/>\r\n",
       "<text text-anchor=\"start\" x=\"1121.5\" y=\"-402.3\" font-family=\"Helvetica,sans-Serif\" font-size=\"14.00\">gini = 0.0</text>\r\n",
       "<text text-anchor=\"start\" x=\"1111\" y=\"-387.3\" font-family=\"Helvetica,sans-Serif\" font-size=\"14.00\">samples = 5</text>\r\n",
       "<text text-anchor=\"start\" x=\"1102\" y=\"-372.3\" font-family=\"Helvetica,sans-Serif\" font-size=\"14.00\">value = [0, 0, 5]</text>\r\n",
       "<text text-anchor=\"start\" x=\"1120\" y=\"-357.3\" font-family=\"Helvetica,sans-Serif\" font-size=\"14.00\">class = M</text>\r\n",
       "</g>\r\n",
       "<!-- 33&#45;&gt;34 -->\r\n",
       "<g id=\"edge34\" class=\"edge\"><title>33&#45;&gt;34</title>\r\n",
       "<path fill=\"none\" stroke=\"black\" d=\"M1150.5,-460.907C1150.5,-450.204 1150.5,-438.615 1150.5,-427.776\"/>\r\n",
       "<polygon fill=\"black\" stroke=\"black\" points=\"1154,-427.667 1150.5,-417.667 1147,-427.667 1154,-427.667\"/>\r\n",
       "</g>\r\n",
       "<!-- 35 -->\r\n",
       "<g id=\"node36\" class=\"node\"><title>35</title>\r\n",
       "<path fill=\"none\" stroke=\"black\" d=\"M1330,-425C1330,-425 1237,-425 1237,-425 1231,-425 1225,-419 1225,-413 1225,-413 1225,-354 1225,-354 1225,-348 1231,-342 1237,-342 1237,-342 1330,-342 1330,-342 1336,-342 1342,-348 1342,-354 1342,-354 1342,-413 1342,-413 1342,-419 1336,-425 1330,-425\"/>\r\n",
       "<text text-anchor=\"start\" x=\"1233\" y=\"-409.8\" font-family=\"Helvetica,sans-Serif\" font-size=\"14.00\">population ≤ 0.0</text>\r\n",
       "<text text-anchor=\"start\" x=\"1254.5\" y=\"-394.8\" font-family=\"Helvetica,sans-Serif\" font-size=\"14.00\">gini = 0.5</text>\r\n",
       "<text text-anchor=\"start\" x=\"1244\" y=\"-379.8\" font-family=\"Helvetica,sans-Serif\" font-size=\"14.00\">samples = 6</text>\r\n",
       "<text text-anchor=\"start\" x=\"1235\" y=\"-364.8\" font-family=\"Helvetica,sans-Serif\" font-size=\"14.00\">value = [3, 0, 3]</text>\r\n",
       "<text text-anchor=\"start\" x=\"1254\" y=\"-349.8\" font-family=\"Helvetica,sans-Serif\" font-size=\"14.00\">class = H</text>\r\n",
       "</g>\r\n",
       "<!-- 33&#45;&gt;35 -->\r\n",
       "<g id=\"edge35\" class=\"edge\"><title>33&#45;&gt;35</title>\r\n",
       "<path fill=\"none\" stroke=\"black\" d=\"M1196.64,-460.907C1207.37,-451.469 1218.88,-441.343 1229.9,-431.649\"/>\r\n",
       "<polygon fill=\"black\" stroke=\"black\" points=\"1232.24,-434.254 1237.44,-425.021 1227.62,-428.998 1232.24,-434.254\"/>\r\n",
       "</g>\r\n",
       "<!-- 36 -->\r\n",
       "<g id=\"node37\" class=\"node\"><title>36</title>\r\n",
       "<path fill=\"#8139e5\" stroke=\"black\" d=\"M1262,-298.5C1262,-298.5 1173,-298.5 1173,-298.5 1167,-298.5 1161,-292.5 1161,-286.5 1161,-286.5 1161,-242.5 1161,-242.5 1161,-236.5 1167,-230.5 1173,-230.5 1173,-230.5 1262,-230.5 1262,-230.5 1268,-230.5 1274,-236.5 1274,-242.5 1274,-242.5 1274,-286.5 1274,-286.5 1274,-292.5 1268,-298.5 1262,-298.5\"/>\r\n",
       "<text text-anchor=\"start\" x=\"1188.5\" y=\"-283.3\" font-family=\"Helvetica,sans-Serif\" font-size=\"14.00\">gini = 0.0</text>\r\n",
       "<text text-anchor=\"start\" x=\"1178\" y=\"-268.3\" font-family=\"Helvetica,sans-Serif\" font-size=\"14.00\">samples = 3</text>\r\n",
       "<text text-anchor=\"start\" x=\"1169\" y=\"-253.3\" font-family=\"Helvetica,sans-Serif\" font-size=\"14.00\">value = [0, 0, 3]</text>\r\n",
       "<text text-anchor=\"start\" x=\"1187\" y=\"-238.3\" font-family=\"Helvetica,sans-Serif\" font-size=\"14.00\">class = M</text>\r\n",
       "</g>\r\n",
       "<!-- 35&#45;&gt;36 -->\r\n",
       "<g id=\"edge36\" class=\"edge\"><title>35&#45;&gt;36</title>\r\n",
       "<path fill=\"none\" stroke=\"black\" d=\"M1260.6,-341.907C1254.31,-330.763 1247.49,-318.658 1241.16,-307.439\"/>\r\n",
       "<polygon fill=\"black\" stroke=\"black\" points=\"1244.17,-305.657 1236.21,-298.667 1238.07,-309.096 1244.17,-305.657\"/>\r\n",
       "</g>\r\n",
       "<!-- 37 -->\r\n",
       "<g id=\"node38\" class=\"node\"><title>37</title>\r\n",
       "<path fill=\"#e58139\" stroke=\"black\" d=\"M1393,-298.5C1393,-298.5 1304,-298.5 1304,-298.5 1298,-298.5 1292,-292.5 1292,-286.5 1292,-286.5 1292,-242.5 1292,-242.5 1292,-236.5 1298,-230.5 1304,-230.5 1304,-230.5 1393,-230.5 1393,-230.5 1399,-230.5 1405,-236.5 1405,-242.5 1405,-242.5 1405,-286.5 1405,-286.5 1405,-292.5 1399,-298.5 1393,-298.5\"/>\r\n",
       "<text text-anchor=\"start\" x=\"1319.5\" y=\"-283.3\" font-family=\"Helvetica,sans-Serif\" font-size=\"14.00\">gini = 0.0</text>\r\n",
       "<text text-anchor=\"start\" x=\"1309\" y=\"-268.3\" font-family=\"Helvetica,sans-Serif\" font-size=\"14.00\">samples = 3</text>\r\n",
       "<text text-anchor=\"start\" x=\"1300\" y=\"-253.3\" font-family=\"Helvetica,sans-Serif\" font-size=\"14.00\">value = [3, 0, 0]</text>\r\n",
       "<text text-anchor=\"start\" x=\"1319\" y=\"-238.3\" font-family=\"Helvetica,sans-Serif\" font-size=\"14.00\">class = H</text>\r\n",
       "</g>\r\n",
       "<!-- 35&#45;&gt;37 -->\r\n",
       "<g id=\"edge37\" class=\"edge\"><title>35&#45;&gt;37</title>\r\n",
       "<path fill=\"none\" stroke=\"black\" d=\"M1306.05,-341.907C1312.24,-330.763 1318.97,-318.658 1325.2,-307.439\"/>\r\n",
       "<polygon fill=\"black\" stroke=\"black\" points=\"1328.28,-309.108 1330.07,-298.667 1322.16,-305.709 1328.28,-309.108\"/>\r\n",
       "</g>\r\n",
       "</g>\r\n",
       "</svg>\r\n"
      ],
      "text/plain": [
       "<graphviz.files.Source at 0x245f1fcbda0>"
      ]
     },
     "execution_count": 32,
     "metadata": {},
     "output_type": "execute_result"
    }
   ],
   "source": [
    "viewDecisionTree(model_dt, X.columns)"
   ]
  },
  {
   "cell_type": "markdown",
   "metadata": {},
   "source": [
    "We can also display the feature importance."
   ]
  },
  {
   "cell_type": "code",
   "execution_count": 33,
   "metadata": {},
   "outputs": [
    {
     "data": {
      "image/png": "[encoded data removed]",
      "text/plain": [
       "<Figure size 576x288 with 1 Axes>"
      ]
     },
     "metadata": {
      "needs_background": "light"
     },
     "output_type": "display_data"
    }
   ],
   "source": [
    "decisionTreeSummary(model_dt, X.columns)"
   ]
  },
  {
   "cell_type": "markdown",
   "metadata": {},
   "source": [
    "For logistic regression we can examine the coefficients.  "
   ]
  },
  {
   "cell_type": "code",
   "execution_count": 34,
   "metadata": {},
   "outputs": [
    {
     "data": {
      "text/plain": [
       "array(['H', 'L', 'M'], dtype=object)"
      ]
     },
     "execution_count": 34,
     "metadata": {},
     "output_type": "execute_result"
    }
   ],
   "source": [
    "model_lr.classes_"
   ]
  },
  {
   "cell_type": "code",
   "execution_count": 35,
   "metadata": {},
   "outputs": [
    {
     "data": {
      "text/plain": [
       "array([[ 1.56109512,  1.43854829,  1.21032309,  0.71015589,  0.16496136,\n",
       "        -0.21151471,  0.38168319, -0.90984066, -0.7007721 , -0.06693589,\n",
       "         1.35850726, -0.26528544],\n",
       "       [-1.04391607, -0.40989364, -1.85609818, -1.39903662, -0.71497946,\n",
       "         0.2072231 , -0.15851575,  1.53414928,  1.15354453,  0.24971128,\n",
       "        -0.74221789,  0.09642796],\n",
       "       [-0.51717906, -1.02865465,  0.64577509,  0.68888074,  0.5500181 ,\n",
       "         0.00429161, -0.22316744, -0.62430862, -0.45277243, -0.18277539,\n",
       "        -0.61628937,  0.16885748]])"
      ]
     },
     "execution_count": 35,
     "metadata": {},
     "output_type": "execute_result"
    }
   ],
   "source": [
    "model_lr.coef_"
   ]
  },
  {
   "cell_type": "markdown",
   "metadata": {},
   "source": [
    "And we can plot them:"
   ]
  },
  {
   "cell_type": "code",
   "execution_count": 36,
   "metadata": {},
   "outputs": [
    {
     "data": {
      "image/png": "[encoded data removed]",
      "text/plain": [
       "<Figure size 576x288 with 1 Axes>"
      ]
     },
     "metadata": {
      "needs_background": "light"
     },
     "output_type": "display_data"
    },
    {
     "data": {
      "image/png": "[encoded data removed]",
      "text/plain": [
       "<Figure size 576x288 with 1 Axes>"
      ]
     },
     "metadata": {
      "needs_background": "light"
     },
     "output_type": "display_data"
    },
    {
     "data": {
      "image/png": "[encoded data removed]",
      "text/plain": [
       "<Figure size 576x288 with 1 Axes>"
      ]
     },
     "metadata": {
      "needs_background": "light"
     },
     "output_type": "display_data"
    }
   ],
   "source": [
    "logisticRegressionSummary(model_lr, X.columns)"
   ]
  }
 ],
 "metadata": {
  "kernelspec": {
   "display_name": "Python 3",
   "language": "python",
   "name": "python3"
  },
  "language_info": {
   "codemirror_mode": {
    "name": "ipython",
    "version": 3
   },
   "file_extension": ".py",
   "mimetype": "text/x-python",
   "name": "python",
   "nbconvert_exporter": "python",
   "pygments_lexer": "ipython3",
   "version": "3.8.3"
  }
 },
 "nbformat": 4,
 "nbformat_minor": 2
}
