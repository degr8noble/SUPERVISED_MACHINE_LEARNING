{
 "cells": [
  {
   "cell_type": "markdown",
   "metadata": {},
   "source": [
    "# Data Cleansing\n",
    "\n",
    "This notebook shows some data cleansing strategies you may use.\n"
   ]
  },
  {
   "cell_type": "markdown",
   "metadata": {},
   "source": [
    "## Load the data"
   ]
  },
  {
   "cell_type": "code",
   "execution_count": 1,
   "metadata": {},
   "outputs": [],
   "source": [
    "# Import required libraries\n",
    "import pandas as pd\n",
    "import numpy as np\n",
    "from functions import *"
   ]
  },
  {
   "cell_type": "markdown",
   "metadata": {},
   "source": [
    "Load our very small data set."
   ]
  },
  {
   "cell_type": "code",
   "execution_count": 2,
   "metadata": {},
   "outputs": [
    {
     "data": {
      "text/html": [
       "<div>\n",
       "<style scoped>\n",
       "    .dataframe tbody tr th:only-of-type {\n",
       "        vertical-align: middle;\n",
       "    }\n",
       "\n",
       "    .dataframe tbody tr th {\n",
       "        vertical-align: top;\n",
       "    }\n",
       "\n",
       "    .dataframe thead th {\n",
       "        text-align: right;\n",
       "    }\n",
       "</style>\n",
       "<table border=\"1\" class=\"dataframe\">\n",
       "  <thead>\n",
       "    <tr style=\"text-align: right;\">\n",
       "      <th></th>\n",
       "      <th>location</th>\n",
       "      <th>date_of_sale</th>\n",
       "      <th>number_of_bedrooms</th>\n",
       "      <th>price</th>\n",
       "      <th>type</th>\n",
       "    </tr>\n",
       "  </thead>\n",
       "  <tbody>\n",
       "    <tr>\n",
       "      <th>0</th>\n",
       "      <td>Clapham</td>\n",
       "      <td>12/04/1999</td>\n",
       "      <td>1</td>\n",
       "      <td>£729,000</td>\n",
       "      <td>apartment</td>\n",
       "    </tr>\n",
       "    <tr>\n",
       "      <th>1</th>\n",
       "      <td>Ashford</td>\n",
       "      <td>05/08/2017</td>\n",
       "      <td>unknown</td>\n",
       "      <td>£699,000</td>\n",
       "      <td>semi-detached</td>\n",
       "    </tr>\n",
       "    <tr>\n",
       "      <th>2</th>\n",
       "      <td>Stratford-on-Avon</td>\n",
       "      <td>29/03/2012</td>\n",
       "      <td>3</td>\n",
       "      <td>NaN</td>\n",
       "      <td>detached</td>\n",
       "    </tr>\n",
       "    <tr>\n",
       "      <th>3</th>\n",
       "      <td>Canterbury</td>\n",
       "      <td>01/07/2009</td>\n",
       "      <td>2</td>\n",
       "      <td>£529,000</td>\n",
       "      <td>teraced</td>\n",
       "    </tr>\n",
       "    <tr>\n",
       "      <th>4</th>\n",
       "      <td>Camden</td>\n",
       "      <td>16/12/2001</td>\n",
       "      <td>1</td>\n",
       "      <td>£616,000</td>\n",
       "      <td>apartment</td>\n",
       "    </tr>\n",
       "    <tr>\n",
       "      <th>5</th>\n",
       "      <td>Rugby</td>\n",
       "      <td>01/03/2003</td>\n",
       "      <td>-</td>\n",
       "      <td>£247,000</td>\n",
       "      <td>detached</td>\n",
       "    </tr>\n",
       "    <tr>\n",
       "      <th>6</th>\n",
       "      <td>Hampstead</td>\n",
       "      <td>05/03/2016</td>\n",
       "      <td>2</td>\n",
       "      <td>£0</td>\n",
       "      <td>terraced</td>\n",
       "    </tr>\n",
       "    <tr>\n",
       "      <th>7</th>\n",
       "      <td>Clapham</td>\n",
       "      <td>05/07/2001</td>\n",
       "      <td>363</td>\n",
       "      <td>£543,000</td>\n",
       "      <td>apartment</td>\n",
       "    </tr>\n",
       "    <tr>\n",
       "      <th>8</th>\n",
       "      <td>Stratford-on-Avon</td>\n",
       "      <td>10th May 2010</td>\n",
       "      <td>3</td>\n",
       "      <td>£420,000</td>\n",
       "      <td>detached</td>\n",
       "    </tr>\n",
       "    <tr>\n",
       "      <th>9</th>\n",
       "      <td>Camden</td>\n",
       "      <td>16/12/2001</td>\n",
       "      <td>1</td>\n",
       "      <td>£616,000</td>\n",
       "      <td>apartment</td>\n",
       "    </tr>\n",
       "  </tbody>\n",
       "</table>\n",
       "</div>"
      ],
      "text/plain": [
       "            location   date_of_sale number_of_bedrooms     price  \\\n",
       "0            Clapham     12/04/1999                  1  £729,000   \n",
       "1            Ashford     05/08/2017            unknown  £699,000   \n",
       "2  Stratford-on-Avon     29/03/2012                  3       NaN   \n",
       "3         Canterbury     01/07/2009                  2  £529,000   \n",
       "4             Camden     16/12/2001                  1  £616,000   \n",
       "5              Rugby     01/03/2003                  -  £247,000   \n",
       "6          Hampstead     05/03/2016                  2        £0   \n",
       "7            Clapham     05/07/2001                363  £543,000   \n",
       "8  Stratford-on-Avon  10th May 2010                  3  £420,000   \n",
       "9             Camden     16/12/2001                  1  £616,000   \n",
       "\n",
       "            type  \n",
       "0      apartment  \n",
       "1  semi-detached  \n",
       "2       detached  \n",
       "3        teraced  \n",
       "4      apartment  \n",
       "5       detached  \n",
       "6       terraced  \n",
       "7      apartment  \n",
       "8       detached  \n",
       "9      apartment  "
      ]
     },
     "execution_count": 2,
     "metadata": {},
     "output_type": "execute_result"
    }
   ],
   "source": [
    "# Load data\n",
    "df = pd.read_csv(\"cleaning.csv\")\n",
    "df"
   ]
  },
  {
   "cell_type": "markdown",
   "metadata": {},
   "source": [
    "## Examine our data\n",
    "Let's first understand a few things about our data.\n",
    "\n",
    "What data types has Pandas assigned to the features?"
   ]
  },
  {
   "cell_type": "code",
   "execution_count": 3,
   "metadata": {},
   "outputs": [
    {
     "data": {
      "text/plain": [
       "location              object\n",
       "date_of_sale          object\n",
       "number_of_bedrooms    object\n",
       "price                 object\n",
       "type                  object\n",
       "dtype: object"
      ]
     },
     "execution_count": 3,
     "metadata": {},
     "output_type": "execute_result"
    }
   ],
   "source": [
    "# Examine data types\n",
    "df.dtypes"
   ]
  },
  {
   "cell_type": "markdown",
   "metadata": {},
   "source": [
    "So, Pandas has made everything a string (object) type.\n",
    "\n",
    "Do we have any nulls?"
   ]
  },
  {
   "cell_type": "code",
   "execution_count": 4,
   "metadata": {},
   "outputs": [
    {
     "data": {
      "text/plain": [
       "location              0.0\n",
       "date_of_sale          0.0\n",
       "number_of_bedrooms    0.0\n",
       "price                 0.1\n",
       "type                  0.0\n",
       "dtype: float64"
      ]
     },
     "execution_count": 4,
     "metadata": {},
     "output_type": "execute_result"
    }
   ],
   "source": [
    "# Check for nulls\n",
    "df.isnull().mean()"
   ]
  },
  {
   "cell_type": "markdown",
   "metadata": {},
   "source": [
    "Price is the only column currently containing nulls.\n",
    "\n",
    "Let's now walk through each feature"
   ]
  },
  {
   "cell_type": "markdown",
   "metadata": {},
   "source": [
    "## Process location\n",
    "The location column looks fine. Its data type is object (i.e. string). And there are no nulls. There is nothing we need to do."
   ]
  },
  {
   "cell_type": "markdown",
   "metadata": {},
   "source": [
    "## Process date_of_sale\n",
    "The date_of_sale is clearly a date, but has come through as an object (string).  We need to convert it to a date otherwise Pandas date functionality won't work."
   ]
  },
  {
   "cell_type": "code",
   "execution_count": 5,
   "metadata": {},
   "outputs": [
    {
     "data": {
      "text/plain": [
       "location                      object\n",
       "date_of_sale          datetime64[ns]\n",
       "number_of_bedrooms            object\n",
       "price                         object\n",
       "type                          object\n",
       "dtype: object"
      ]
     },
     "execution_count": 5,
     "metadata": {},
     "output_type": "execute_result"
    }
   ],
   "source": [
    "# Convert date_of_sale from string to datetime\n",
    "df[\"date_of_sale\"] = pd.to_datetime(df[\"date_of_sale\"])\n",
    "df.dtypes"
   ]
  },
  {
   "cell_type": "markdown",
   "metadata": {},
   "source": [
    "## Process number_of_bedrooms\n",
    "This should be numeric, but has come through as object (string) because there are some non-numeric values.  Let's get a list of such values:"
   ]
  },
  {
   "cell_type": "code",
   "execution_count": 6,
   "metadata": {},
   "outputs": [
    {
     "data": {
      "text/plain": [
       "array(['unknown', '-'], dtype=object)"
      ]
     },
     "execution_count": 6,
     "metadata": {},
     "output_type": "execute_result"
    }
   ],
   "source": [
    "# Find non-numerics in number_of_bedrooms\n",
    "non_nums = df[~df[\"number_of_bedrooms\"].str.isnumeric()][\"number_of_bedrooms\"].unique()\n",
    "non_nums"
   ]
  },
  {
   "cell_type": "markdown",
   "metadata": {},
   "source": [
    "And let's replace them with nulls:"
   ]
  },
  {
   "cell_type": "code",
   "execution_count": 7,
   "metadata": {},
   "outputs": [
    {
     "data": {
      "text/plain": [
       "0      1\n",
       "1    NaN\n",
       "2      3\n",
       "3      2\n",
       "4      1\n",
       "5    NaN\n",
       "6      2\n",
       "7    363\n",
       "8      3\n",
       "9      1\n",
       "Name: number_of_bedrooms, dtype: object"
      ]
     },
     "execution_count": 7,
     "metadata": {},
     "output_type": "execute_result"
    }
   ],
   "source": [
    "# Replace non-numerics in number_of_bedrooms with nulls\n",
    "df[\"number_of_bedrooms\"] = df[\"number_of_bedrooms\"].replace(non_nums, np.nan)\n",
    "df[\"number_of_bedrooms\"]"
   ]
  },
  {
   "cell_type": "markdown",
   "metadata": {},
   "source": [
    "Note that the data type is still object, so let's fix that:"
   ]
  },
  {
   "cell_type": "code",
   "execution_count": 8,
   "metadata": {},
   "outputs": [
    {
     "data": {
      "text/plain": [
       "location                      object\n",
       "date_of_sale          datetime64[ns]\n",
       "number_of_bedrooms           float64\n",
       "price                         object\n",
       "type                          object\n",
       "dtype: object"
      ]
     },
     "execution_count": 8,
     "metadata": {},
     "output_type": "execute_result"
    }
   ],
   "source": [
    "# Convert number_of_bedrooms from string to numeric\n",
    "df['number_of_bedrooms'] = pd.to_numeric(df['number_of_bedrooms'])\n",
    "df.dtypes"
   ]
  },
  {
   "cell_type": "markdown",
   "metadata": {},
   "source": [
    "Note that number_of_bedrooms has converted to float64 rather than int64 as we would expect.  Why?  Because the column contains NaNs, and NaNs are floats as far as Python is concerned!  This is a little confusing and annoying, but it's just one of those things."
   ]
  },
  {
   "cell_type": "markdown",
   "metadata": {},
   "source": [
    "## Process price\n",
    "Again for price, we would hope this would be numeric, but it contains characters such as £ and the comma that are not numeric, which must be removed.  Let's do that."
   ]
  },
  {
   "cell_type": "code",
   "execution_count": 9,
   "metadata": {},
   "outputs": [
    {
     "data": {
      "text/plain": [
       "0    729000\n",
       "1    699000\n",
       "2       NaN\n",
       "3    529000\n",
       "4    616000\n",
       "5    247000\n",
       "6         0\n",
       "7    543000\n",
       "8    420000\n",
       "9    616000\n",
       "Name: price, dtype: object"
      ]
     },
     "execution_count": 9,
     "metadata": {},
     "output_type": "execute_result"
    }
   ],
   "source": [
    "# Remove non-numeric characters from price\n",
    "df[\"price\"] = df[\"price\"].apply(lambda x: x.replace('£', '') if type(x) is str else x)\n",
    "df[\"price\"] = df[\"price\"].apply(lambda x: x.replace(',', '') if type(x) is str else x)\n",
    "df['price']"
   ]
  },
  {
   "cell_type": "markdown",
   "metadata": {},
   "source": [
    "As the type is still object, we need to convert it to numeric:"
   ]
  },
  {
   "cell_type": "code",
   "execution_count": 10,
   "metadata": {},
   "outputs": [
    {
     "data": {
      "text/plain": [
       "location                      object\n",
       "date_of_sale          datetime64[ns]\n",
       "number_of_bedrooms           float64\n",
       "price                        float64\n",
       "type                          object\n",
       "dtype: object"
      ]
     },
     "execution_count": 10,
     "metadata": {},
     "output_type": "execute_result"
    }
   ],
   "source": [
    "# Convert price from string to numeric\n",
    "df['price'] = pd.to_numeric(df['price'])\n",
    "df.dtypes"
   ]
  },
  {
   "cell_type": "markdown",
   "metadata": {},
   "source": [
    "We still have a problem. Surely £0 is not a valid house price? It's probably an error or 0 was entered because the value was unknown.  We should convert it to null so we can deal with it in the same way as other missing values:"
   ]
  },
  {
   "cell_type": "code",
   "execution_count": 11,
   "metadata": {},
   "outputs": [
    {
     "data": {
      "text/plain": [
       "0    729000.0\n",
       "1    699000.0\n",
       "2         NaN\n",
       "3    529000.0\n",
       "4    616000.0\n",
       "5    247000.0\n",
       "6         NaN\n",
       "7    543000.0\n",
       "8    420000.0\n",
       "9    616000.0\n",
       "Name: price, dtype: float64"
      ]
     },
     "execution_count": 11,
     "metadata": {},
     "output_type": "execute_result"
    }
   ],
   "source": [
    "# Replace 0s with nulls in price\n",
    "df[\"price\"] = df[\"price\"].replace([0], np.nan)\n",
    "df[\"price\"]"
   ]
  },
  {
   "cell_type": "markdown",
   "metadata": {},
   "source": [
    "## type\n",
    "On first glance it looks ok, but let's check:"
   ]
  },
  {
   "cell_type": "code",
   "execution_count": 12,
   "metadata": {},
   "outputs": [
    {
     "data": {
      "text/plain": [
       "array(['apartment', 'semi-detached', 'detached', 'teraced', 'terraced'],\n",
       "      dtype=object)"
      ]
     },
     "execution_count": 12,
     "metadata": {},
     "output_type": "execute_result"
    }
   ],
   "source": [
    "# Find unique values in type\n",
    "df[\"type\"].unique()"
   ]
  },
  {
   "cell_type": "markdown",
   "metadata": {},
   "source": [
    "We can see the misspelling of 'terraced' so we can remove it:"
   ]
  },
  {
   "cell_type": "code",
   "execution_count": 13,
   "metadata": {},
   "outputs": [
    {
     "data": {
      "text/plain": [
       "0        apartment\n",
       "1    semi-detached\n",
       "2         detached\n",
       "3         terraced\n",
       "4        apartment\n",
       "5         detached\n",
       "6         terraced\n",
       "7        apartment\n",
       "8         detached\n",
       "9        apartment\n",
       "Name: type, dtype: object"
      ]
     },
     "execution_count": 13,
     "metadata": {},
     "output_type": "execute_result"
    }
   ],
   "source": [
    "# Replace misspelling\n",
    "df[\"type\"] = df[\"type\"].replace(['teraced'], 'terraced')\n",
    "df[\"type\"]"
   ]
  },
  {
   "cell_type": "markdown",
   "metadata": {},
   "source": [
    "## Outliers\n",
    "We can visually inspect the table for outliers in our small data set. "
   ]
  },
  {
   "cell_type": "code",
   "execution_count": 14,
   "metadata": {},
   "outputs": [
    {
     "data": {
      "text/html": [
       "<div>\n",
       "<style scoped>\n",
       "    .dataframe tbody tr th:only-of-type {\n",
       "        vertical-align: middle;\n",
       "    }\n",
       "\n",
       "    .dataframe tbody tr th {\n",
       "        vertical-align: top;\n",
       "    }\n",
       "\n",
       "    .dataframe thead th {\n",
       "        text-align: right;\n",
       "    }\n",
       "</style>\n",
       "<table border=\"1\" class=\"dataframe\">\n",
       "  <thead>\n",
       "    <tr style=\"text-align: right;\">\n",
       "      <th></th>\n",
       "      <th>location</th>\n",
       "      <th>date_of_sale</th>\n",
       "      <th>number_of_bedrooms</th>\n",
       "      <th>price</th>\n",
       "      <th>type</th>\n",
       "    </tr>\n",
       "  </thead>\n",
       "  <tbody>\n",
       "    <tr>\n",
       "      <th>0</th>\n",
       "      <td>Clapham</td>\n",
       "      <td>1999-12-04</td>\n",
       "      <td>1.0</td>\n",
       "      <td>729000.0</td>\n",
       "      <td>apartment</td>\n",
       "    </tr>\n",
       "    <tr>\n",
       "      <th>1</th>\n",
       "      <td>Ashford</td>\n",
       "      <td>2017-05-08</td>\n",
       "      <td>NaN</td>\n",
       "      <td>699000.0</td>\n",
       "      <td>semi-detached</td>\n",
       "    </tr>\n",
       "    <tr>\n",
       "      <th>2</th>\n",
       "      <td>Stratford-on-Avon</td>\n",
       "      <td>2012-03-29</td>\n",
       "      <td>3.0</td>\n",
       "      <td>NaN</td>\n",
       "      <td>detached</td>\n",
       "    </tr>\n",
       "    <tr>\n",
       "      <th>3</th>\n",
       "      <td>Canterbury</td>\n",
       "      <td>2009-01-07</td>\n",
       "      <td>2.0</td>\n",
       "      <td>529000.0</td>\n",
       "      <td>terraced</td>\n",
       "    </tr>\n",
       "    <tr>\n",
       "      <th>4</th>\n",
       "      <td>Camden</td>\n",
       "      <td>2001-12-16</td>\n",
       "      <td>1.0</td>\n",
       "      <td>616000.0</td>\n",
       "      <td>apartment</td>\n",
       "    </tr>\n",
       "    <tr>\n",
       "      <th>5</th>\n",
       "      <td>Rugby</td>\n",
       "      <td>2003-01-03</td>\n",
       "      <td>NaN</td>\n",
       "      <td>247000.0</td>\n",
       "      <td>detached</td>\n",
       "    </tr>\n",
       "    <tr>\n",
       "      <th>6</th>\n",
       "      <td>Hampstead</td>\n",
       "      <td>2016-05-03</td>\n",
       "      <td>2.0</td>\n",
       "      <td>NaN</td>\n",
       "      <td>terraced</td>\n",
       "    </tr>\n",
       "    <tr>\n",
       "      <th>7</th>\n",
       "      <td>Clapham</td>\n",
       "      <td>2001-05-07</td>\n",
       "      <td>363.0</td>\n",
       "      <td>543000.0</td>\n",
       "      <td>apartment</td>\n",
       "    </tr>\n",
       "    <tr>\n",
       "      <th>8</th>\n",
       "      <td>Stratford-on-Avon</td>\n",
       "      <td>2010-05-10</td>\n",
       "      <td>3.0</td>\n",
       "      <td>420000.0</td>\n",
       "      <td>detached</td>\n",
       "    </tr>\n",
       "    <tr>\n",
       "      <th>9</th>\n",
       "      <td>Camden</td>\n",
       "      <td>2001-12-16</td>\n",
       "      <td>1.0</td>\n",
       "      <td>616000.0</td>\n",
       "      <td>apartment</td>\n",
       "    </tr>\n",
       "  </tbody>\n",
       "</table>\n",
       "</div>"
      ],
      "text/plain": [
       "            location date_of_sale  number_of_bedrooms     price           type\n",
       "0            Clapham   1999-12-04                 1.0  729000.0      apartment\n",
       "1            Ashford   2017-05-08                 NaN  699000.0  semi-detached\n",
       "2  Stratford-on-Avon   2012-03-29                 3.0       NaN       detached\n",
       "3         Canterbury   2009-01-07                 2.0  529000.0       terraced\n",
       "4             Camden   2001-12-16                 1.0  616000.0      apartment\n",
       "5              Rugby   2003-01-03                 NaN  247000.0       detached\n",
       "6          Hampstead   2016-05-03                 2.0       NaN       terraced\n",
       "7            Clapham   2001-05-07               363.0  543000.0      apartment\n",
       "8  Stratford-on-Avon   2010-05-10                 3.0  420000.0       detached\n",
       "9             Camden   2001-12-16                 1.0  616000.0      apartment"
      ]
     },
     "execution_count": 14,
     "metadata": {},
     "output_type": "execute_result"
    }
   ],
   "source": [
    "df"
   ]
  },
  {
   "cell_type": "markdown",
   "metadata": {},
   "source": [
    "In general, we can use a function that finds outliers by looking for values that sit outside of 1.5x the inter-quartile range (IQR). The find_outliers() function in functions.py shows how to do that.  We can use that here to find the indices of outliers in our numeric columns, number_of_bedrooms and price."
   ]
  },
  {
   "cell_type": "code",
   "execution_count": 15,
   "metadata": {},
   "outputs": [
    {
     "data": {
      "text/plain": [
       "(array([7], dtype=int64),)"
      ]
     },
     "execution_count": 15,
     "metadata": {},
     "output_type": "execute_result"
    }
   ],
   "source": [
    "find_outliers(df.number_of_bedrooms.fillna(df.number_of_bedrooms.mean()))"
   ]
  },
  {
   "cell_type": "code",
   "execution_count": 16,
   "metadata": {},
   "outputs": [
    {
     "data": {
      "text/plain": [
       "(array([5], dtype=int64),)"
      ]
     },
     "execution_count": 16,
     "metadata": {},
     "output_type": "execute_result"
    }
   ],
   "source": [
    "find_outliers(df.price.fillna(df.price.mean()))"
   ]
  },
  {
   "cell_type": "markdown",
   "metadata": {},
   "source": [
    "We can confirm this by plotting a boxplot, which uses the same approach (1.5x IQR) to identify outliers."
   ]
  },
  {
   "cell_type": "code",
   "execution_count": 17,
   "metadata": {},
   "outputs": [
    {
     "data": {
      "image/png": "[encoded data removed]",
      "text/plain": [
       "<Figure size 1440x1440 with 16 Axes>"
      ]
     },
     "metadata": {
      "needs_background": "light"
     },
     "output_type": "display_data"
    }
   ],
   "source": [
    "boxPlotAll(df[[\"number_of_bedrooms\",\"price\"]])"
   ]
  },
  {
   "cell_type": "markdown",
   "metadata": {},
   "source": [
    "Using our domain knowledge, we recognise 363 bedrooms as an error, so we can replace the value with a null:"
   ]
  },
  {
   "cell_type": "code",
   "execution_count": 18,
   "metadata": {},
   "outputs": [],
   "source": [
    "df.loc[7,'number_of_bedrooms'] = np.NaN"
   ]
  },
  {
   "cell_type": "markdown",
   "metadata": {},
   "source": [
    "Or we could just remove the row:"
   ]
  },
  {
   "cell_type": "code",
   "execution_count": 19,
   "metadata": {},
   "outputs": [],
   "source": [
    "# Remove outlier\n",
    "df = df.drop(7)"
   ]
  },
  {
   "cell_type": "markdown",
   "metadata": {},
   "source": [
    "## Duplicates\n",
    "We can see if we have any duplicates:"
   ]
  },
  {
   "cell_type": "code",
   "execution_count": 20,
   "metadata": {},
   "outputs": [
    {
     "data": {
      "text/html": [
       "<div>\n",
       "<style scoped>\n",
       "    .dataframe tbody tr th:only-of-type {\n",
       "        vertical-align: middle;\n",
       "    }\n",
       "\n",
       "    .dataframe tbody tr th {\n",
       "        vertical-align: top;\n",
       "    }\n",
       "\n",
       "    .dataframe thead th {\n",
       "        text-align: right;\n",
       "    }\n",
       "</style>\n",
       "<table border=\"1\" class=\"dataframe\">\n",
       "  <thead>\n",
       "    <tr style=\"text-align: right;\">\n",
       "      <th></th>\n",
       "      <th>location</th>\n",
       "      <th>date_of_sale</th>\n",
       "      <th>number_of_bedrooms</th>\n",
       "      <th>price</th>\n",
       "      <th>type</th>\n",
       "    </tr>\n",
       "  </thead>\n",
       "  <tbody>\n",
       "    <tr>\n",
       "      <th>9</th>\n",
       "      <td>Camden</td>\n",
       "      <td>2001-12-16</td>\n",
       "      <td>1.0</td>\n",
       "      <td>616000.0</td>\n",
       "      <td>apartment</td>\n",
       "    </tr>\n",
       "  </tbody>\n",
       "</table>\n",
       "</div>"
      ],
      "text/plain": [
       "  location date_of_sale  number_of_bedrooms     price       type\n",
       "9   Camden   2001-12-16                 1.0  616000.0  apartment"
      ]
     },
     "execution_count": 20,
     "metadata": {},
     "output_type": "execute_result"
    }
   ],
   "source": [
    "# Find duplicates\n",
    "df[df.duplicated()]"
   ]
  },
  {
   "cell_type": "markdown",
   "metadata": {},
   "source": [
    "And remove them:"
   ]
  },
  {
   "cell_type": "code",
   "execution_count": 21,
   "metadata": {},
   "outputs": [],
   "source": [
    "# Remove duplicates\n",
    "df = df.drop_duplicates()"
   ]
  },
  {
   "cell_type": "markdown",
   "metadata": {},
   "source": [
    "## Dealing with nulls\n",
    "\n",
    "Now we need to turn our attention to the nulls in the data.  Let's find where there are nulls:"
   ]
  },
  {
   "cell_type": "code",
   "execution_count": 22,
   "metadata": {},
   "outputs": [
    {
     "data": {
      "text/plain": [
       "location              0.00\n",
       "date_of_sale          0.00\n",
       "number_of_bedrooms    0.25\n",
       "price                 0.25\n",
       "type                  0.00\n",
       "dtype: float64"
      ]
     },
     "execution_count": 22,
     "metadata": {},
     "output_type": "execute_result"
    }
   ],
   "source": [
    "df.isnull().mean()"
   ]
  },
  {
   "cell_type": "markdown",
   "metadata": {},
   "source": [
    "### Strategy 1: Remove all columns containing nulls"
   ]
  },
  {
   "cell_type": "code",
   "execution_count": 23,
   "metadata": {},
   "outputs": [
    {
     "data": {
      "text/html": [
       "<div>\n",
       "<style scoped>\n",
       "    .dataframe tbody tr th:only-of-type {\n",
       "        vertical-align: middle;\n",
       "    }\n",
       "\n",
       "    .dataframe tbody tr th {\n",
       "        vertical-align: top;\n",
       "    }\n",
       "\n",
       "    .dataframe thead th {\n",
       "        text-align: right;\n",
       "    }\n",
       "</style>\n",
       "<table border=\"1\" class=\"dataframe\">\n",
       "  <thead>\n",
       "    <tr style=\"text-align: right;\">\n",
       "      <th></th>\n",
       "      <th>location</th>\n",
       "      <th>date_of_sale</th>\n",
       "      <th>type</th>\n",
       "    </tr>\n",
       "  </thead>\n",
       "  <tbody>\n",
       "    <tr>\n",
       "      <th>0</th>\n",
       "      <td>Clapham</td>\n",
       "      <td>1999-12-04</td>\n",
       "      <td>apartment</td>\n",
       "    </tr>\n",
       "    <tr>\n",
       "      <th>1</th>\n",
       "      <td>Ashford</td>\n",
       "      <td>2017-05-08</td>\n",
       "      <td>semi-detached</td>\n",
       "    </tr>\n",
       "    <tr>\n",
       "      <th>2</th>\n",
       "      <td>Stratford-on-Avon</td>\n",
       "      <td>2012-03-29</td>\n",
       "      <td>detached</td>\n",
       "    </tr>\n",
       "    <tr>\n",
       "      <th>3</th>\n",
       "      <td>Canterbury</td>\n",
       "      <td>2009-01-07</td>\n",
       "      <td>terraced</td>\n",
       "    </tr>\n",
       "    <tr>\n",
       "      <th>4</th>\n",
       "      <td>Camden</td>\n",
       "      <td>2001-12-16</td>\n",
       "      <td>apartment</td>\n",
       "    </tr>\n",
       "    <tr>\n",
       "      <th>5</th>\n",
       "      <td>Rugby</td>\n",
       "      <td>2003-01-03</td>\n",
       "      <td>detached</td>\n",
       "    </tr>\n",
       "    <tr>\n",
       "      <th>6</th>\n",
       "      <td>Hampstead</td>\n",
       "      <td>2016-05-03</td>\n",
       "      <td>terraced</td>\n",
       "    </tr>\n",
       "    <tr>\n",
       "      <th>8</th>\n",
       "      <td>Stratford-on-Avon</td>\n",
       "      <td>2010-05-10</td>\n",
       "      <td>detached</td>\n",
       "    </tr>\n",
       "  </tbody>\n",
       "</table>\n",
       "</div>"
      ],
      "text/plain": [
       "            location date_of_sale           type\n",
       "0            Clapham   1999-12-04      apartment\n",
       "1            Ashford   2017-05-08  semi-detached\n",
       "2  Stratford-on-Avon   2012-03-29       detached\n",
       "3         Canterbury   2009-01-07       terraced\n",
       "4             Camden   2001-12-16      apartment\n",
       "5              Rugby   2003-01-03       detached\n",
       "6          Hampstead   2016-05-03       terraced\n",
       "8  Stratford-on-Avon   2010-05-10       detached"
      ]
     },
     "execution_count": 23,
     "metadata": {},
     "output_type": "execute_result"
    }
   ],
   "source": [
    "# Remove columns containing nulls\n",
    "df_dropcols = df.dropna(axis=1)\n",
    "df_dropcols"
   ]
  },
  {
   "cell_type": "markdown",
   "metadata": {},
   "source": [
    "### Strategy 2: Remove all rows containing nulls"
   ]
  },
  {
   "cell_type": "code",
   "execution_count": 24,
   "metadata": {},
   "outputs": [
    {
     "data": {
      "text/html": [
       "<div>\n",
       "<style scoped>\n",
       "    .dataframe tbody tr th:only-of-type {\n",
       "        vertical-align: middle;\n",
       "    }\n",
       "\n",
       "    .dataframe tbody tr th {\n",
       "        vertical-align: top;\n",
       "    }\n",
       "\n",
       "    .dataframe thead th {\n",
       "        text-align: right;\n",
       "    }\n",
       "</style>\n",
       "<table border=\"1\" class=\"dataframe\">\n",
       "  <thead>\n",
       "    <tr style=\"text-align: right;\">\n",
       "      <th></th>\n",
       "      <th>location</th>\n",
       "      <th>date_of_sale</th>\n",
       "      <th>number_of_bedrooms</th>\n",
       "      <th>price</th>\n",
       "      <th>type</th>\n",
       "    </tr>\n",
       "  </thead>\n",
       "  <tbody>\n",
       "    <tr>\n",
       "      <th>0</th>\n",
       "      <td>Clapham</td>\n",
       "      <td>1999-12-04</td>\n",
       "      <td>1.0</td>\n",
       "      <td>729000.0</td>\n",
       "      <td>apartment</td>\n",
       "    </tr>\n",
       "    <tr>\n",
       "      <th>3</th>\n",
       "      <td>Canterbury</td>\n",
       "      <td>2009-01-07</td>\n",
       "      <td>2.0</td>\n",
       "      <td>529000.0</td>\n",
       "      <td>terraced</td>\n",
       "    </tr>\n",
       "    <tr>\n",
       "      <th>4</th>\n",
       "      <td>Camden</td>\n",
       "      <td>2001-12-16</td>\n",
       "      <td>1.0</td>\n",
       "      <td>616000.0</td>\n",
       "      <td>apartment</td>\n",
       "    </tr>\n",
       "    <tr>\n",
       "      <th>8</th>\n",
       "      <td>Stratford-on-Avon</td>\n",
       "      <td>2010-05-10</td>\n",
       "      <td>3.0</td>\n",
       "      <td>420000.0</td>\n",
       "      <td>detached</td>\n",
       "    </tr>\n",
       "  </tbody>\n",
       "</table>\n",
       "</div>"
      ],
      "text/plain": [
       "            location date_of_sale  number_of_bedrooms     price       type\n",
       "0            Clapham   1999-12-04                 1.0  729000.0  apartment\n",
       "3         Canterbury   2009-01-07                 2.0  529000.0   terraced\n",
       "4             Camden   2001-12-16                 1.0  616000.0  apartment\n",
       "8  Stratford-on-Avon   2010-05-10                 3.0  420000.0   detached"
      ]
     },
     "execution_count": 24,
     "metadata": {},
     "output_type": "execute_result"
    }
   ],
   "source": [
    "# Remove rows containing nulls\n",
    "df_droprows = df.dropna()\n",
    "df_droprows"
   ]
  },
  {
   "cell_type": "markdown",
   "metadata": {},
   "source": [
    "### Strategy 3: Impute nulls with the mean for the column"
   ]
  },
  {
   "cell_type": "markdown",
   "metadata": {},
   "source": [
    "Impute with mean"
   ]
  },
  {
   "cell_type": "code",
   "execution_count": 25,
   "metadata": {},
   "outputs": [
    {
     "data": {
      "text/plain": [
       "0    729000.0\n",
       "1    699000.0\n",
       "2    540000.0\n",
       "3    529000.0\n",
       "4    616000.0\n",
       "5    247000.0\n",
       "6    540000.0\n",
       "8    420000.0\n",
       "Name: price, dtype: float64"
      ]
     },
     "execution_count": 25,
     "metadata": {},
     "output_type": "execute_result"
    }
   ],
   "source": [
    "mean = df[\"price\"].mean()       # calculate the mean for the column\n",
    "df[\"price\"].fillna(value=mean)  # replace nulls with the mean"
   ]
  },
  {
   "cell_type": "markdown",
   "metadata": {},
   "source": [
    "### Strategy 4: Impute nulls with the median for the column"
   ]
  },
  {
   "cell_type": "markdown",
   "metadata": {},
   "source": [
    "Impute with median"
   ]
  },
  {
   "cell_type": "code",
   "execution_count": 26,
   "metadata": {},
   "outputs": [
    {
     "data": {
      "text/plain": [
       "0    729000.0\n",
       "1    699000.0\n",
       "2    572500.0\n",
       "3    529000.0\n",
       "4    616000.0\n",
       "5    247000.0\n",
       "6    572500.0\n",
       "8    420000.0\n",
       "Name: price, dtype: float64"
      ]
     },
     "execution_count": 26,
     "metadata": {},
     "output_type": "execute_result"
    }
   ],
   "source": [
    "median = df[\"price\"].median()   # calculate the median for the column\n",
    "df[\"price\"].fillna(value=median)  # replace nulls with the mean"
   ]
  },
  {
   "cell_type": "markdown",
   "metadata": {},
   "source": [
    "### Impute nulls in number_of_bedrooms"
   ]
  },
  {
   "cell_type": "markdown",
   "metadata": {},
   "source": [
    "Let's decide to impute number of bedrooms with the mean"
   ]
  },
  {
   "cell_type": "code",
   "execution_count": 27,
   "metadata": {},
   "outputs": [],
   "source": [
    "mean = round(df[\"number_of_bedrooms\"].mean())     # calculate the mean for the column\n",
    "df[\"number_of_bedrooms\"] = df[\"number_of_bedrooms\"].fillna(value=mean)  # replace nulls with the mean"
   ]
  },
  {
   "cell_type": "code",
   "execution_count": 28,
   "metadata": {},
   "outputs": [
    {
     "data": {
      "text/html": [
       "<div>\n",
       "<style scoped>\n",
       "    .dataframe tbody tr th:only-of-type {\n",
       "        vertical-align: middle;\n",
       "    }\n",
       "\n",
       "    .dataframe tbody tr th {\n",
       "        vertical-align: top;\n",
       "    }\n",
       "\n",
       "    .dataframe thead th {\n",
       "        text-align: right;\n",
       "    }\n",
       "</style>\n",
       "<table border=\"1\" class=\"dataframe\">\n",
       "  <thead>\n",
       "    <tr style=\"text-align: right;\">\n",
       "      <th></th>\n",
       "      <th>location</th>\n",
       "      <th>date_of_sale</th>\n",
       "      <th>number_of_bedrooms</th>\n",
       "      <th>price</th>\n",
       "      <th>type</th>\n",
       "    </tr>\n",
       "  </thead>\n",
       "  <tbody>\n",
       "    <tr>\n",
       "      <th>0</th>\n",
       "      <td>Clapham</td>\n",
       "      <td>1999-12-04</td>\n",
       "      <td>1.0</td>\n",
       "      <td>729000.0</td>\n",
       "      <td>apartment</td>\n",
       "    </tr>\n",
       "    <tr>\n",
       "      <th>1</th>\n",
       "      <td>Ashford</td>\n",
       "      <td>2017-05-08</td>\n",
       "      <td>2.0</td>\n",
       "      <td>699000.0</td>\n",
       "      <td>semi-detached</td>\n",
       "    </tr>\n",
       "    <tr>\n",
       "      <th>2</th>\n",
       "      <td>Stratford-on-Avon</td>\n",
       "      <td>2012-03-29</td>\n",
       "      <td>3.0</td>\n",
       "      <td>NaN</td>\n",
       "      <td>detached</td>\n",
       "    </tr>\n",
       "    <tr>\n",
       "      <th>3</th>\n",
       "      <td>Canterbury</td>\n",
       "      <td>2009-01-07</td>\n",
       "      <td>2.0</td>\n",
       "      <td>529000.0</td>\n",
       "      <td>terraced</td>\n",
       "    </tr>\n",
       "    <tr>\n",
       "      <th>4</th>\n",
       "      <td>Camden</td>\n",
       "      <td>2001-12-16</td>\n",
       "      <td>1.0</td>\n",
       "      <td>616000.0</td>\n",
       "      <td>apartment</td>\n",
       "    </tr>\n",
       "    <tr>\n",
       "      <th>5</th>\n",
       "      <td>Rugby</td>\n",
       "      <td>2003-01-03</td>\n",
       "      <td>2.0</td>\n",
       "      <td>247000.0</td>\n",
       "      <td>detached</td>\n",
       "    </tr>\n",
       "    <tr>\n",
       "      <th>6</th>\n",
       "      <td>Hampstead</td>\n",
       "      <td>2016-05-03</td>\n",
       "      <td>2.0</td>\n",
       "      <td>NaN</td>\n",
       "      <td>terraced</td>\n",
       "    </tr>\n",
       "    <tr>\n",
       "      <th>8</th>\n",
       "      <td>Stratford-on-Avon</td>\n",
       "      <td>2010-05-10</td>\n",
       "      <td>3.0</td>\n",
       "      <td>420000.0</td>\n",
       "      <td>detached</td>\n",
       "    </tr>\n",
       "  </tbody>\n",
       "</table>\n",
       "</div>"
      ],
      "text/plain": [
       "            location date_of_sale  number_of_bedrooms     price           type\n",
       "0            Clapham   1999-12-04                 1.0  729000.0      apartment\n",
       "1            Ashford   2017-05-08                 2.0  699000.0  semi-detached\n",
       "2  Stratford-on-Avon   2012-03-29                 3.0       NaN       detached\n",
       "3         Canterbury   2009-01-07                 2.0  529000.0       terraced\n",
       "4             Camden   2001-12-16                 1.0  616000.0      apartment\n",
       "5              Rugby   2003-01-03                 2.0  247000.0       detached\n",
       "6          Hampstead   2016-05-03                 2.0       NaN       terraced\n",
       "8  Stratford-on-Avon   2010-05-10                 3.0  420000.0       detached"
      ]
     },
     "execution_count": 28,
     "metadata": {},
     "output_type": "execute_result"
    }
   ],
   "source": [
    "df"
   ]
  },
  {
   "cell_type": "markdown",
   "metadata": {},
   "source": [
    "### Impute nulls in price"
   ]
  },
  {
   "cell_type": "markdown",
   "metadata": {},
   "source": [
    "We may take a more sophisticated approach and look at the mean or median based on a subgroup, e.g. the mean price in each location for each year of sale.  For any property in Stratford-Upon_avon will a null price, we impute with the mean for Stratford for the year of sale.., etc.\n",
    "\n",
    "We need to compute the year of sale:"
   ]
  },
  {
   "cell_type": "code",
   "execution_count": 29,
   "metadata": {},
   "outputs": [
    {
     "data": {
      "text/html": [
       "<div>\n",
       "<style scoped>\n",
       "    .dataframe tbody tr th:only-of-type {\n",
       "        vertical-align: middle;\n",
       "    }\n",
       "\n",
       "    .dataframe tbody tr th {\n",
       "        vertical-align: top;\n",
       "    }\n",
       "\n",
       "    .dataframe thead th {\n",
       "        text-align: right;\n",
       "    }\n",
       "</style>\n",
       "<table border=\"1\" class=\"dataframe\">\n",
       "  <thead>\n",
       "    <tr style=\"text-align: right;\">\n",
       "      <th></th>\n",
       "      <th>location</th>\n",
       "      <th>date_of_sale</th>\n",
       "      <th>number_of_bedrooms</th>\n",
       "      <th>price</th>\n",
       "      <th>type</th>\n",
       "      <th>year</th>\n",
       "    </tr>\n",
       "  </thead>\n",
       "  <tbody>\n",
       "    <tr>\n",
       "      <th>0</th>\n",
       "      <td>Clapham</td>\n",
       "      <td>1999-12-04</td>\n",
       "      <td>1.0</td>\n",
       "      <td>729000.0</td>\n",
       "      <td>apartment</td>\n",
       "      <td>1999</td>\n",
       "    </tr>\n",
       "    <tr>\n",
       "      <th>1</th>\n",
       "      <td>Ashford</td>\n",
       "      <td>2017-05-08</td>\n",
       "      <td>2.0</td>\n",
       "      <td>699000.0</td>\n",
       "      <td>semi-detached</td>\n",
       "      <td>2017</td>\n",
       "    </tr>\n",
       "    <tr>\n",
       "      <th>2</th>\n",
       "      <td>Stratford-on-Avon</td>\n",
       "      <td>2012-03-29</td>\n",
       "      <td>3.0</td>\n",
       "      <td>NaN</td>\n",
       "      <td>detached</td>\n",
       "      <td>2012</td>\n",
       "    </tr>\n",
       "    <tr>\n",
       "      <th>3</th>\n",
       "      <td>Canterbury</td>\n",
       "      <td>2009-01-07</td>\n",
       "      <td>2.0</td>\n",
       "      <td>529000.0</td>\n",
       "      <td>terraced</td>\n",
       "      <td>2009</td>\n",
       "    </tr>\n",
       "    <tr>\n",
       "      <th>4</th>\n",
       "      <td>Camden</td>\n",
       "      <td>2001-12-16</td>\n",
       "      <td>1.0</td>\n",
       "      <td>616000.0</td>\n",
       "      <td>apartment</td>\n",
       "      <td>2001</td>\n",
       "    </tr>\n",
       "    <tr>\n",
       "      <th>5</th>\n",
       "      <td>Rugby</td>\n",
       "      <td>2003-01-03</td>\n",
       "      <td>2.0</td>\n",
       "      <td>247000.0</td>\n",
       "      <td>detached</td>\n",
       "      <td>2003</td>\n",
       "    </tr>\n",
       "    <tr>\n",
       "      <th>6</th>\n",
       "      <td>Hampstead</td>\n",
       "      <td>2016-05-03</td>\n",
       "      <td>2.0</td>\n",
       "      <td>NaN</td>\n",
       "      <td>terraced</td>\n",
       "      <td>2016</td>\n",
       "    </tr>\n",
       "    <tr>\n",
       "      <th>8</th>\n",
       "      <td>Stratford-on-Avon</td>\n",
       "      <td>2010-05-10</td>\n",
       "      <td>3.0</td>\n",
       "      <td>420000.0</td>\n",
       "      <td>detached</td>\n",
       "      <td>2010</td>\n",
       "    </tr>\n",
       "  </tbody>\n",
       "</table>\n",
       "</div>"
      ],
      "text/plain": [
       "            location date_of_sale  number_of_bedrooms     price  \\\n",
       "0            Clapham   1999-12-04                 1.0  729000.0   \n",
       "1            Ashford   2017-05-08                 2.0  699000.0   \n",
       "2  Stratford-on-Avon   2012-03-29                 3.0       NaN   \n",
       "3         Canterbury   2009-01-07                 2.0  529000.0   \n",
       "4             Camden   2001-12-16                 1.0  616000.0   \n",
       "5              Rugby   2003-01-03                 2.0  247000.0   \n",
       "6          Hampstead   2016-05-03                 2.0       NaN   \n",
       "8  Stratford-on-Avon   2010-05-10                 3.0  420000.0   \n",
       "\n",
       "            type  year  \n",
       "0      apartment  1999  \n",
       "1  semi-detached  2017  \n",
       "2       detached  2012  \n",
       "3       terraced  2009  \n",
       "4      apartment  2001  \n",
       "5       detached  2003  \n",
       "6       terraced  2016  \n",
       "8       detached  2010  "
      ]
     },
     "execution_count": 29,
     "metadata": {},
     "output_type": "execute_result"
    }
   ],
   "source": [
    "# Compute year\n",
    "df['year'] = df.date_of_sale.dt.year\n",
    "df"
   ]
  },
  {
   "cell_type": "markdown",
   "metadata": {},
   "source": [
    "We can compute the mean for each location, property size and year of sale using a groupby:"
   ]
  },
  {
   "cell_type": "code",
   "execution_count": 30,
   "metadata": {},
   "outputs": [
    {
     "data": {
      "text/plain": [
       "location           number_of_bedrooms  year\n",
       "Ashford            2.0                 2017    699000.0\n",
       "Camden             1.0                 2001    616000.0\n",
       "Canterbury         2.0                 2009    529000.0\n",
       "Clapham            1.0                 1999    729000.0\n",
       "Hampstead          2.0                 2016         NaN\n",
       "Rugby              2.0                 2003    247000.0\n",
       "Stratford-on-Avon  3.0                 2010    420000.0\n",
       "                                       2012         NaN\n",
       "Name: price, dtype: float64"
      ]
     },
     "execution_count": 30,
     "metadata": {},
     "output_type": "execute_result"
    }
   ],
   "source": [
    "df.groupby(['location','number_of_bedrooms','year'])['price'].mean()"
   ]
  },
  {
   "cell_type": "markdown",
   "metadata": {},
   "source": [
    "And we can carry out the imputation using the above means like this:"
   ]
  },
  {
   "cell_type": "code",
   "execution_count": 31,
   "metadata": {},
   "outputs": [],
   "source": [
    "df['price'] = df.groupby(['location','number_of_bedrooms','year'])['price'].transform(lambda x: x.fillna(x.mean()))"
   ]
  },
  {
   "cell_type": "markdown",
   "metadata": {},
   "source": [
    "Now, because we have such a small data set, we don't have enough data to calculate a mean for all our combinations of location, number_of_bedrooms and year.  So we have nulls in our groupings above and will have nulls in our imputed data:"
   ]
  },
  {
   "cell_type": "code",
   "execution_count": 32,
   "metadata": {},
   "outputs": [
    {
     "data": {
      "text/html": [
       "<div>\n",
       "<style scoped>\n",
       "    .dataframe tbody tr th:only-of-type {\n",
       "        vertical-align: middle;\n",
       "    }\n",
       "\n",
       "    .dataframe tbody tr th {\n",
       "        vertical-align: top;\n",
       "    }\n",
       "\n",
       "    .dataframe thead th {\n",
       "        text-align: right;\n",
       "    }\n",
       "</style>\n",
       "<table border=\"1\" class=\"dataframe\">\n",
       "  <thead>\n",
       "    <tr style=\"text-align: right;\">\n",
       "      <th></th>\n",
       "      <th>location</th>\n",
       "      <th>date_of_sale</th>\n",
       "      <th>number_of_bedrooms</th>\n",
       "      <th>price</th>\n",
       "      <th>type</th>\n",
       "      <th>year</th>\n",
       "    </tr>\n",
       "  </thead>\n",
       "  <tbody>\n",
       "    <tr>\n",
       "      <th>0</th>\n",
       "      <td>Clapham</td>\n",
       "      <td>1999-12-04</td>\n",
       "      <td>1.0</td>\n",
       "      <td>729000.0</td>\n",
       "      <td>apartment</td>\n",
       "      <td>1999</td>\n",
       "    </tr>\n",
       "    <tr>\n",
       "      <th>1</th>\n",
       "      <td>Ashford</td>\n",
       "      <td>2017-05-08</td>\n",
       "      <td>2.0</td>\n",
       "      <td>699000.0</td>\n",
       "      <td>semi-detached</td>\n",
       "      <td>2017</td>\n",
       "    </tr>\n",
       "    <tr>\n",
       "      <th>2</th>\n",
       "      <td>Stratford-on-Avon</td>\n",
       "      <td>2012-03-29</td>\n",
       "      <td>3.0</td>\n",
       "      <td>NaN</td>\n",
       "      <td>detached</td>\n",
       "      <td>2012</td>\n",
       "    </tr>\n",
       "    <tr>\n",
       "      <th>3</th>\n",
       "      <td>Canterbury</td>\n",
       "      <td>2009-01-07</td>\n",
       "      <td>2.0</td>\n",
       "      <td>529000.0</td>\n",
       "      <td>terraced</td>\n",
       "      <td>2009</td>\n",
       "    </tr>\n",
       "    <tr>\n",
       "      <th>4</th>\n",
       "      <td>Camden</td>\n",
       "      <td>2001-12-16</td>\n",
       "      <td>1.0</td>\n",
       "      <td>616000.0</td>\n",
       "      <td>apartment</td>\n",
       "      <td>2001</td>\n",
       "    </tr>\n",
       "    <tr>\n",
       "      <th>5</th>\n",
       "      <td>Rugby</td>\n",
       "      <td>2003-01-03</td>\n",
       "      <td>2.0</td>\n",
       "      <td>247000.0</td>\n",
       "      <td>detached</td>\n",
       "      <td>2003</td>\n",
       "    </tr>\n",
       "    <tr>\n",
       "      <th>6</th>\n",
       "      <td>Hampstead</td>\n",
       "      <td>2016-05-03</td>\n",
       "      <td>2.0</td>\n",
       "      <td>NaN</td>\n",
       "      <td>terraced</td>\n",
       "      <td>2016</td>\n",
       "    </tr>\n",
       "    <tr>\n",
       "      <th>8</th>\n",
       "      <td>Stratford-on-Avon</td>\n",
       "      <td>2010-05-10</td>\n",
       "      <td>3.0</td>\n",
       "      <td>420000.0</td>\n",
       "      <td>detached</td>\n",
       "      <td>2010</td>\n",
       "    </tr>\n",
       "  </tbody>\n",
       "</table>\n",
       "</div>"
      ],
      "text/plain": [
       "            location date_of_sale  number_of_bedrooms     price  \\\n",
       "0            Clapham   1999-12-04                 1.0  729000.0   \n",
       "1            Ashford   2017-05-08                 2.0  699000.0   \n",
       "2  Stratford-on-Avon   2012-03-29                 3.0       NaN   \n",
       "3         Canterbury   2009-01-07                 2.0  529000.0   \n",
       "4             Camden   2001-12-16                 1.0  616000.0   \n",
       "5              Rugby   2003-01-03                 2.0  247000.0   \n",
       "6          Hampstead   2016-05-03                 2.0       NaN   \n",
       "8  Stratford-on-Avon   2010-05-10                 3.0  420000.0   \n",
       "\n",
       "            type  year  \n",
       "0      apartment  1999  \n",
       "1  semi-detached  2017  \n",
       "2       detached  2012  \n",
       "3       terraced  2009  \n",
       "4      apartment  2001  \n",
       "5       detached  2003  \n",
       "6       terraced  2016  \n",
       "8       detached  2010  "
      ]
     },
     "execution_count": 32,
     "metadata": {},
     "output_type": "execute_result"
    }
   ],
   "source": [
    "df"
   ]
  },
  {
   "cell_type": "markdown",
   "metadata": {},
   "source": [
    "In this case we can simplify our grouping to find the mean price for any property, in any location and sold at any time:"
   ]
  },
  {
   "cell_type": "code",
   "execution_count": 33,
   "metadata": {},
   "outputs": [
    {
     "data": {
      "text/plain": [
       "number_of_bedrooms\n",
       "1.0    672500.000000\n",
       "2.0    491666.666667\n",
       "3.0    420000.000000\n",
       "Name: price, dtype: float64"
      ]
     },
     "execution_count": 33,
     "metadata": {},
     "output_type": "execute_result"
    }
   ],
   "source": [
    "df.groupby(['number_of_bedrooms'])['price'].mean()"
   ]
  },
  {
   "cell_type": "code",
   "execution_count": 34,
   "metadata": {},
   "outputs": [],
   "source": [
    "df['price'] = df.groupby(['number_of_bedrooms'])['price'].transform(lambda x: x.fillna(x.mean()))"
   ]
  },
  {
   "cell_type": "markdown",
   "metadata": {},
   "source": [
    "We can now see the nulls in price have been removed:"
   ]
  },
  {
   "cell_type": "code",
   "execution_count": 35,
   "metadata": {},
   "outputs": [
    {
     "data": {
      "text/html": [
       "<div>\n",
       "<style scoped>\n",
       "    .dataframe tbody tr th:only-of-type {\n",
       "        vertical-align: middle;\n",
       "    }\n",
       "\n",
       "    .dataframe tbody tr th {\n",
       "        vertical-align: top;\n",
       "    }\n",
       "\n",
       "    .dataframe thead th {\n",
       "        text-align: right;\n",
       "    }\n",
       "</style>\n",
       "<table border=\"1\" class=\"dataframe\">\n",
       "  <thead>\n",
       "    <tr style=\"text-align: right;\">\n",
       "      <th></th>\n",
       "      <th>location</th>\n",
       "      <th>date_of_sale</th>\n",
       "      <th>number_of_bedrooms</th>\n",
       "      <th>price</th>\n",
       "      <th>type</th>\n",
       "      <th>year</th>\n",
       "    </tr>\n",
       "  </thead>\n",
       "  <tbody>\n",
       "    <tr>\n",
       "      <th>0</th>\n",
       "      <td>Clapham</td>\n",
       "      <td>1999-12-04</td>\n",
       "      <td>1.0</td>\n",
       "      <td>729000.000000</td>\n",
       "      <td>apartment</td>\n",
       "      <td>1999</td>\n",
       "    </tr>\n",
       "    <tr>\n",
       "      <th>1</th>\n",
       "      <td>Ashford</td>\n",
       "      <td>2017-05-08</td>\n",
       "      <td>2.0</td>\n",
       "      <td>699000.000000</td>\n",
       "      <td>semi-detached</td>\n",
       "      <td>2017</td>\n",
       "    </tr>\n",
       "    <tr>\n",
       "      <th>2</th>\n",
       "      <td>Stratford-on-Avon</td>\n",
       "      <td>2012-03-29</td>\n",
       "      <td>3.0</td>\n",
       "      <td>420000.000000</td>\n",
       "      <td>detached</td>\n",
       "      <td>2012</td>\n",
       "    </tr>\n",
       "    <tr>\n",
       "      <th>3</th>\n",
       "      <td>Canterbury</td>\n",
       "      <td>2009-01-07</td>\n",
       "      <td>2.0</td>\n",
       "      <td>529000.000000</td>\n",
       "      <td>terraced</td>\n",
       "      <td>2009</td>\n",
       "    </tr>\n",
       "    <tr>\n",
       "      <th>4</th>\n",
       "      <td>Camden</td>\n",
       "      <td>2001-12-16</td>\n",
       "      <td>1.0</td>\n",
       "      <td>616000.000000</td>\n",
       "      <td>apartment</td>\n",
       "      <td>2001</td>\n",
       "    </tr>\n",
       "    <tr>\n",
       "      <th>5</th>\n",
       "      <td>Rugby</td>\n",
       "      <td>2003-01-03</td>\n",
       "      <td>2.0</td>\n",
       "      <td>247000.000000</td>\n",
       "      <td>detached</td>\n",
       "      <td>2003</td>\n",
       "    </tr>\n",
       "    <tr>\n",
       "      <th>6</th>\n",
       "      <td>Hampstead</td>\n",
       "      <td>2016-05-03</td>\n",
       "      <td>2.0</td>\n",
       "      <td>491666.666667</td>\n",
       "      <td>terraced</td>\n",
       "      <td>2016</td>\n",
       "    </tr>\n",
       "    <tr>\n",
       "      <th>8</th>\n",
       "      <td>Stratford-on-Avon</td>\n",
       "      <td>2010-05-10</td>\n",
       "      <td>3.0</td>\n",
       "      <td>420000.000000</td>\n",
       "      <td>detached</td>\n",
       "      <td>2010</td>\n",
       "    </tr>\n",
       "  </tbody>\n",
       "</table>\n",
       "</div>"
      ],
      "text/plain": [
       "            location date_of_sale  number_of_bedrooms          price  \\\n",
       "0            Clapham   1999-12-04                 1.0  729000.000000   \n",
       "1            Ashford   2017-05-08                 2.0  699000.000000   \n",
       "2  Stratford-on-Avon   2012-03-29                 3.0  420000.000000   \n",
       "3         Canterbury   2009-01-07                 2.0  529000.000000   \n",
       "4             Camden   2001-12-16                 1.0  616000.000000   \n",
       "5              Rugby   2003-01-03                 2.0  247000.000000   \n",
       "6          Hampstead   2016-05-03                 2.0  491666.666667   \n",
       "8  Stratford-on-Avon   2010-05-10                 3.0  420000.000000   \n",
       "\n",
       "            type  year  \n",
       "0      apartment  1999  \n",
       "1  semi-detached  2017  \n",
       "2       detached  2012  \n",
       "3       terraced  2009  \n",
       "4      apartment  2001  \n",
       "5       detached  2003  \n",
       "6       terraced  2016  \n",
       "8       detached  2010  "
      ]
     },
     "execution_count": 35,
     "metadata": {},
     "output_type": "execute_result"
    }
   ],
   "source": [
    "df"
   ]
  },
  {
   "cell_type": "markdown",
   "metadata": {},
   "source": [
    "This illustrates how a multi-stage imputation can be carried out (in this case first impute with mean for location, number_of_bedrooms and year, then impute just for number_of_bedrooms)."
   ]
  }
 ],
 "metadata": {
  "kernelspec": {
   "display_name": "Python 3",
   "language": "python",
   "name": "python3"
  },
  "language_info": {
   "codemirror_mode": {
    "name": "ipython",
    "version": 3
   },
   "file_extension": ".py",
   "mimetype": "text/x-python",
   "name": "python",
   "nbconvert_exporter": "python",
   "pygments_lexer": "ipython3",
   "version": "3.8.3"
  }
 },
 "nbformat": 4,
 "nbformat_minor": 2
}
